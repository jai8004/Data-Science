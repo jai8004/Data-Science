{
  "cells": [
    {
      "cell_type": "markdown",
      "metadata": {
        "id": "SxAVLu8TMWh3"
      },
      "source": [
        "**Natural Langauage Processing\n",
        " Pipeline**\n",
        "\n",
        "1. Text Information \n",
        "2. Segementation and Transformation \n",
        "3. Text Cleaning \n",
        "4. Vectorization and Feature Engineering \n",
        "5. Text Lemmatization and Steaming \n",
        "6. Machine Learning/Deeplearning Algorithm \n",
        "7. Interpreatation of the Result"
      ]
    },
    {
      "cell_type": "code",
      "execution_count": null,
      "metadata": {
        "colab": {
          "base_uri": "https://localhost:8080/"
        },
        "id": "xA64SkE_EWOs",
        "outputId": "6f9dd150-0e96-4014-b4c3-a018a8671ff4"
      },
      "outputs": [
        {
          "output_type": "stream",
          "name": "stdout",
          "text": [
            "NVIDIA-SMI has failed because it couldn't communicate with the NVIDIA driver. Make sure that the latest NVIDIA driver is installed and running.\n",
            "\n"
          ]
        }
      ],
      "source": [
        "!nvidia-smi -L"
      ]
    },
    {
      "cell_type": "code",
      "execution_count": null,
      "metadata": {
        "colab": {
          "base_uri": "https://localhost:8080/"
        },
        "id": "1ofGshzvErez",
        "outputId": "e3bb52c3-8038-4695-bd65-a9eb96a1377f"
      },
      "outputs": [
        {
          "output_type": "stream",
          "name": "stdout",
          "text": [
            "--2022-01-02 07:08:33--  https://raw.githubusercontent.com/mrdbourke/tensorflow-deep-learning/main/extras/helper_functions.py\n",
            "Resolving raw.githubusercontent.com (raw.githubusercontent.com)... 185.199.108.133, 185.199.111.133, 185.199.110.133, ...\n",
            "Connecting to raw.githubusercontent.com (raw.githubusercontent.com)|185.199.108.133|:443... connected.\n",
            "HTTP request sent, awaiting response... 200 OK\n",
            "Length: 10246 (10K) [text/plain]\n",
            "Saving to: ‘helper_functions.py’\n",
            "\n",
            "\rhelper_functions.py   0%[                    ]       0  --.-KB/s               \rhelper_functions.py 100%[===================>]  10.01K  --.-KB/s    in 0s      \n",
            "\n",
            "2022-01-02 07:08:33 (99.2 MB/s) - ‘helper_functions.py’ saved [10246/10246]\n",
            "\n"
          ]
        }
      ],
      "source": [
        "# Download helper functions script\n",
        "!wget https://raw.githubusercontent.com/mrdbourke/tensorflow-deep-learning/main/extras/helper_functions.py"
      ]
    },
    {
      "cell_type": "code",
      "execution_count": null,
      "metadata": {
        "id": "ZqIaLf_yEuQv"
      },
      "outputs": [],
      "source": [
        "# Import series of helper functions for the notebook\n",
        "\n",
        "from helper_functions import unzip_data, create_tensorboard_callback, plot_loss_curves, compare_historys"
      ]
    },
    {
      "cell_type": "code",
      "execution_count": null,
      "metadata": {
        "id": "i0i8xaAl5Xud",
        "colab": {
          "base_uri": "https://localhost:8080/"
        },
        "outputId": "c9eae3e1-3c75-4bd4-ca1e-cdf737a35a75"
      },
      "outputs": [
        {
          "output_type": "stream",
          "name": "stdout",
          "text": [
            "--2022-01-02 07:08:36--  https://storage.googleapis.com/ztm_tf_course/nlp_getting_started.zip\n",
            "Resolving storage.googleapis.com (storage.googleapis.com)... 142.250.81.208, 142.250.188.48, 172.217.2.112, ...\n",
            "Connecting to storage.googleapis.com (storage.googleapis.com)|142.250.81.208|:443... connected.\n",
            "HTTP request sent, awaiting response... 200 OK\n",
            "Length: 607343 (593K) [application/zip]\n",
            "Saving to: ‘nlp_getting_started.zip’\n",
            "\n",
            "\rnlp_getting_started   0%[                    ]       0  --.-KB/s               \rnlp_getting_started 100%[===================>] 593.11K  --.-KB/s    in 0.004s  \n",
            "\n",
            "2022-01-02 07:08:36 (137 MB/s) - ‘nlp_getting_started.zip’ saved [607343/607343]\n",
            "\n"
          ]
        }
      ],
      "source": [
        "# Download data (same as from Kaggle)\n",
        "!wget \"https://storage.googleapis.com/ztm_tf_course/nlp_getting_started.zip\"\n",
        "\n",
        "# Unzip data\n",
        "unzip_data(\"nlp_getting_started.zip\")"
      ]
    },
    {
      "cell_type": "code",
      "source": [
        "# Turn .csv files into pandas DataFrame's\n",
        "import pandas as pd\n",
        "train_df = pd.read_csv(\"train.csv\")\n",
        "test_df = pd.read_csv(\"test.csv\")\n",
        "train_df.head()"
      ],
      "metadata": {
        "colab": {
          "base_uri": "https://localhost:8080/",
          "height": 206
        },
        "id": "0JPy02O54V9i",
        "outputId": "18e35a17-6a2d-4a40-b58b-f012ba6baaa8"
      },
      "execution_count": null,
      "outputs": [
        {
          "output_type": "execute_result",
          "data": {
            "text/html": [
              "\n",
              "  <div id=\"df-041c65d1-947b-472e-bdb1-7ef94dd19bad\">\n",
              "    <div class=\"colab-df-container\">\n",
              "      <div>\n",
              "<style scoped>\n",
              "    .dataframe tbody tr th:only-of-type {\n",
              "        vertical-align: middle;\n",
              "    }\n",
              "\n",
              "    .dataframe tbody tr th {\n",
              "        vertical-align: top;\n",
              "    }\n",
              "\n",
              "    .dataframe thead th {\n",
              "        text-align: right;\n",
              "    }\n",
              "</style>\n",
              "<table border=\"1\" class=\"dataframe\">\n",
              "  <thead>\n",
              "    <tr style=\"text-align: right;\">\n",
              "      <th></th>\n",
              "      <th>id</th>\n",
              "      <th>keyword</th>\n",
              "      <th>location</th>\n",
              "      <th>text</th>\n",
              "      <th>target</th>\n",
              "    </tr>\n",
              "  </thead>\n",
              "  <tbody>\n",
              "    <tr>\n",
              "      <th>0</th>\n",
              "      <td>1</td>\n",
              "      <td>NaN</td>\n",
              "      <td>NaN</td>\n",
              "      <td>Our Deeds are the Reason of this #earthquake M...</td>\n",
              "      <td>1</td>\n",
              "    </tr>\n",
              "    <tr>\n",
              "      <th>1</th>\n",
              "      <td>4</td>\n",
              "      <td>NaN</td>\n",
              "      <td>NaN</td>\n",
              "      <td>Forest fire near La Ronge Sask. Canada</td>\n",
              "      <td>1</td>\n",
              "    </tr>\n",
              "    <tr>\n",
              "      <th>2</th>\n",
              "      <td>5</td>\n",
              "      <td>NaN</td>\n",
              "      <td>NaN</td>\n",
              "      <td>All residents asked to 'shelter in place' are ...</td>\n",
              "      <td>1</td>\n",
              "    </tr>\n",
              "    <tr>\n",
              "      <th>3</th>\n",
              "      <td>6</td>\n",
              "      <td>NaN</td>\n",
              "      <td>NaN</td>\n",
              "      <td>13,000 people receive #wildfires evacuation or...</td>\n",
              "      <td>1</td>\n",
              "    </tr>\n",
              "    <tr>\n",
              "      <th>4</th>\n",
              "      <td>7</td>\n",
              "      <td>NaN</td>\n",
              "      <td>NaN</td>\n",
              "      <td>Just got sent this photo from Ruby #Alaska as ...</td>\n",
              "      <td>1</td>\n",
              "    </tr>\n",
              "  </tbody>\n",
              "</table>\n",
              "</div>\n",
              "      <button class=\"colab-df-convert\" onclick=\"convertToInteractive('df-041c65d1-947b-472e-bdb1-7ef94dd19bad')\"\n",
              "              title=\"Convert this dataframe to an interactive table.\"\n",
              "              style=\"display:none;\">\n",
              "        \n",
              "  <svg xmlns=\"http://www.w3.org/2000/svg\" height=\"24px\"viewBox=\"0 0 24 24\"\n",
              "       width=\"24px\">\n",
              "    <path d=\"M0 0h24v24H0V0z\" fill=\"none\"/>\n",
              "    <path d=\"M18.56 5.44l.94 2.06.94-2.06 2.06-.94-2.06-.94-.94-2.06-.94 2.06-2.06.94zm-11 1L8.5 8.5l.94-2.06 2.06-.94-2.06-.94L8.5 2.5l-.94 2.06-2.06.94zm10 10l.94 2.06.94-2.06 2.06-.94-2.06-.94-.94-2.06-.94 2.06-2.06.94z\"/><path d=\"M17.41 7.96l-1.37-1.37c-.4-.4-.92-.59-1.43-.59-.52 0-1.04.2-1.43.59L10.3 9.45l-7.72 7.72c-.78.78-.78 2.05 0 2.83L4 21.41c.39.39.9.59 1.41.59.51 0 1.02-.2 1.41-.59l7.78-7.78 2.81-2.81c.8-.78.8-2.07 0-2.86zM5.41 20L4 18.59l7.72-7.72 1.47 1.35L5.41 20z\"/>\n",
              "  </svg>\n",
              "      </button>\n",
              "      \n",
              "  <style>\n",
              "    .colab-df-container {\n",
              "      display:flex;\n",
              "      flex-wrap:wrap;\n",
              "      gap: 12px;\n",
              "    }\n",
              "\n",
              "    .colab-df-convert {\n",
              "      background-color: #E8F0FE;\n",
              "      border: none;\n",
              "      border-radius: 50%;\n",
              "      cursor: pointer;\n",
              "      display: none;\n",
              "      fill: #1967D2;\n",
              "      height: 32px;\n",
              "      padding: 0 0 0 0;\n",
              "      width: 32px;\n",
              "    }\n",
              "\n",
              "    .colab-df-convert:hover {\n",
              "      background-color: #E2EBFA;\n",
              "      box-shadow: 0px 1px 2px rgba(60, 64, 67, 0.3), 0px 1px 3px 1px rgba(60, 64, 67, 0.15);\n",
              "      fill: #174EA6;\n",
              "    }\n",
              "\n",
              "    [theme=dark] .colab-df-convert {\n",
              "      background-color: #3B4455;\n",
              "      fill: #D2E3FC;\n",
              "    }\n",
              "\n",
              "    [theme=dark] .colab-df-convert:hover {\n",
              "      background-color: #434B5C;\n",
              "      box-shadow: 0px 1px 3px 1px rgba(0, 0, 0, 0.15);\n",
              "      filter: drop-shadow(0px 1px 2px rgba(0, 0, 0, 0.3));\n",
              "      fill: #FFFFFF;\n",
              "    }\n",
              "  </style>\n",
              "\n",
              "      <script>\n",
              "        const buttonEl =\n",
              "          document.querySelector('#df-041c65d1-947b-472e-bdb1-7ef94dd19bad button.colab-df-convert');\n",
              "        buttonEl.style.display =\n",
              "          google.colab.kernel.accessAllowed ? 'block' : 'none';\n",
              "\n",
              "        async function convertToInteractive(key) {\n",
              "          const element = document.querySelector('#df-041c65d1-947b-472e-bdb1-7ef94dd19bad');\n",
              "          const dataTable =\n",
              "            await google.colab.kernel.invokeFunction('convertToInteractive',\n",
              "                                                     [key], {});\n",
              "          if (!dataTable) return;\n",
              "\n",
              "          const docLinkHtml = 'Like what you see? Visit the ' +\n",
              "            '<a target=\"_blank\" href=https://colab.research.google.com/notebooks/data_table.ipynb>data table notebook</a>'\n",
              "            + ' to learn more about interactive tables.';\n",
              "          element.innerHTML = '';\n",
              "          dataTable['output_type'] = 'display_data';\n",
              "          await google.colab.output.renderOutput(dataTable, element);\n",
              "          const docLink = document.createElement('div');\n",
              "          docLink.innerHTML = docLinkHtml;\n",
              "          element.appendChild(docLink);\n",
              "        }\n",
              "      </script>\n",
              "    </div>\n",
              "  </div>\n",
              "  "
            ],
            "text/plain": [
              "   id keyword  ...                                               text target\n",
              "0   1     NaN  ...  Our Deeds are the Reason of this #earthquake M...      1\n",
              "1   4     NaN  ...             Forest fire near La Ronge Sask. Canada      1\n",
              "2   5     NaN  ...  All residents asked to 'shelter in place' are ...      1\n",
              "3   6     NaN  ...  13,000 people receive #wildfires evacuation or...      1\n",
              "4   7     NaN  ...  Just got sent this photo from Ruby #Alaska as ...      1\n",
              "\n",
              "[5 rows x 5 columns]"
            ]
          },
          "metadata": {},
          "execution_count": 5
        }
      ]
    },
    {
      "cell_type": "code",
      "source": [
        "train_df_shuffled = train_df.sample(frac=1, random_state=42) # shuffle with random_state=42 for reproducibility\n",
        "train_df_shuffled.head()"
      ],
      "metadata": {
        "colab": {
          "base_uri": "https://localhost:8080/",
          "height": 206
        },
        "id": "8e-dKYaF4go7",
        "outputId": "807759a8-45ce-4ceb-80c8-ab3eadbfa6c4"
      },
      "execution_count": null,
      "outputs": [
        {
          "output_type": "execute_result",
          "data": {
            "text/html": [
              "\n",
              "  <div id=\"df-94798666-8836-4d79-bccb-769950f8379a\">\n",
              "    <div class=\"colab-df-container\">\n",
              "      <div>\n",
              "<style scoped>\n",
              "    .dataframe tbody tr th:only-of-type {\n",
              "        vertical-align: middle;\n",
              "    }\n",
              "\n",
              "    .dataframe tbody tr th {\n",
              "        vertical-align: top;\n",
              "    }\n",
              "\n",
              "    .dataframe thead th {\n",
              "        text-align: right;\n",
              "    }\n",
              "</style>\n",
              "<table border=\"1\" class=\"dataframe\">\n",
              "  <thead>\n",
              "    <tr style=\"text-align: right;\">\n",
              "      <th></th>\n",
              "      <th>id</th>\n",
              "      <th>keyword</th>\n",
              "      <th>location</th>\n",
              "      <th>text</th>\n",
              "      <th>target</th>\n",
              "    </tr>\n",
              "  </thead>\n",
              "  <tbody>\n",
              "    <tr>\n",
              "      <th>2644</th>\n",
              "      <td>3796</td>\n",
              "      <td>destruction</td>\n",
              "      <td>NaN</td>\n",
              "      <td>So you have a new weapon that can cause un-ima...</td>\n",
              "      <td>1</td>\n",
              "    </tr>\n",
              "    <tr>\n",
              "      <th>2227</th>\n",
              "      <td>3185</td>\n",
              "      <td>deluge</td>\n",
              "      <td>NaN</td>\n",
              "      <td>The f$&amp;amp;@ing things I do for #GISHWHES Just...</td>\n",
              "      <td>0</td>\n",
              "    </tr>\n",
              "    <tr>\n",
              "      <th>5448</th>\n",
              "      <td>7769</td>\n",
              "      <td>police</td>\n",
              "      <td>UK</td>\n",
              "      <td>DT @georgegalloway: RT @Galloway4Mayor: ÛÏThe...</td>\n",
              "      <td>1</td>\n",
              "    </tr>\n",
              "    <tr>\n",
              "      <th>132</th>\n",
              "      <td>191</td>\n",
              "      <td>aftershock</td>\n",
              "      <td>NaN</td>\n",
              "      <td>Aftershock back to school kick off was great. ...</td>\n",
              "      <td>0</td>\n",
              "    </tr>\n",
              "    <tr>\n",
              "      <th>6845</th>\n",
              "      <td>9810</td>\n",
              "      <td>trauma</td>\n",
              "      <td>Montgomery County, MD</td>\n",
              "      <td>in response to trauma Children of Addicts deve...</td>\n",
              "      <td>0</td>\n",
              "    </tr>\n",
              "  </tbody>\n",
              "</table>\n",
              "</div>\n",
              "      <button class=\"colab-df-convert\" onclick=\"convertToInteractive('df-94798666-8836-4d79-bccb-769950f8379a')\"\n",
              "              title=\"Convert this dataframe to an interactive table.\"\n",
              "              style=\"display:none;\">\n",
              "        \n",
              "  <svg xmlns=\"http://www.w3.org/2000/svg\" height=\"24px\"viewBox=\"0 0 24 24\"\n",
              "       width=\"24px\">\n",
              "    <path d=\"M0 0h24v24H0V0z\" fill=\"none\"/>\n",
              "    <path d=\"M18.56 5.44l.94 2.06.94-2.06 2.06-.94-2.06-.94-.94-2.06-.94 2.06-2.06.94zm-11 1L8.5 8.5l.94-2.06 2.06-.94-2.06-.94L8.5 2.5l-.94 2.06-2.06.94zm10 10l.94 2.06.94-2.06 2.06-.94-2.06-.94-.94-2.06-.94 2.06-2.06.94z\"/><path d=\"M17.41 7.96l-1.37-1.37c-.4-.4-.92-.59-1.43-.59-.52 0-1.04.2-1.43.59L10.3 9.45l-7.72 7.72c-.78.78-.78 2.05 0 2.83L4 21.41c.39.39.9.59 1.41.59.51 0 1.02-.2 1.41-.59l7.78-7.78 2.81-2.81c.8-.78.8-2.07 0-2.86zM5.41 20L4 18.59l7.72-7.72 1.47 1.35L5.41 20z\"/>\n",
              "  </svg>\n",
              "      </button>\n",
              "      \n",
              "  <style>\n",
              "    .colab-df-container {\n",
              "      display:flex;\n",
              "      flex-wrap:wrap;\n",
              "      gap: 12px;\n",
              "    }\n",
              "\n",
              "    .colab-df-convert {\n",
              "      background-color: #E8F0FE;\n",
              "      border: none;\n",
              "      border-radius: 50%;\n",
              "      cursor: pointer;\n",
              "      display: none;\n",
              "      fill: #1967D2;\n",
              "      height: 32px;\n",
              "      padding: 0 0 0 0;\n",
              "      width: 32px;\n",
              "    }\n",
              "\n",
              "    .colab-df-convert:hover {\n",
              "      background-color: #E2EBFA;\n",
              "      box-shadow: 0px 1px 2px rgba(60, 64, 67, 0.3), 0px 1px 3px 1px rgba(60, 64, 67, 0.15);\n",
              "      fill: #174EA6;\n",
              "    }\n",
              "\n",
              "    [theme=dark] .colab-df-convert {\n",
              "      background-color: #3B4455;\n",
              "      fill: #D2E3FC;\n",
              "    }\n",
              "\n",
              "    [theme=dark] .colab-df-convert:hover {\n",
              "      background-color: #434B5C;\n",
              "      box-shadow: 0px 1px 3px 1px rgba(0, 0, 0, 0.15);\n",
              "      filter: drop-shadow(0px 1px 2px rgba(0, 0, 0, 0.3));\n",
              "      fill: #FFFFFF;\n",
              "    }\n",
              "  </style>\n",
              "\n",
              "      <script>\n",
              "        const buttonEl =\n",
              "          document.querySelector('#df-94798666-8836-4d79-bccb-769950f8379a button.colab-df-convert');\n",
              "        buttonEl.style.display =\n",
              "          google.colab.kernel.accessAllowed ? 'block' : 'none';\n",
              "\n",
              "        async function convertToInteractive(key) {\n",
              "          const element = document.querySelector('#df-94798666-8836-4d79-bccb-769950f8379a');\n",
              "          const dataTable =\n",
              "            await google.colab.kernel.invokeFunction('convertToInteractive',\n",
              "                                                     [key], {});\n",
              "          if (!dataTable) return;\n",
              "\n",
              "          const docLinkHtml = 'Like what you see? Visit the ' +\n",
              "            '<a target=\"_blank\" href=https://colab.research.google.com/notebooks/data_table.ipynb>data table notebook</a>'\n",
              "            + ' to learn more about interactive tables.';\n",
              "          element.innerHTML = '';\n",
              "          dataTable['output_type'] = 'display_data';\n",
              "          await google.colab.output.renderOutput(dataTable, element);\n",
              "          const docLink = document.createElement('div');\n",
              "          docLink.innerHTML = docLinkHtml;\n",
              "          element.appendChild(docLink);\n",
              "        }\n",
              "      </script>\n",
              "    </div>\n",
              "  </div>\n",
              "  "
            ],
            "text/plain": [
              "        id  ... target\n",
              "2644  3796  ...      1\n",
              "2227  3185  ...      0\n",
              "5448  7769  ...      1\n",
              "132    191  ...      0\n",
              "6845  9810  ...      0\n",
              "\n",
              "[5 rows x 5 columns]"
            ]
          },
          "metadata": {},
          "execution_count": 6
        }
      ]
    },
    {
      "cell_type": "code",
      "source": [
        "test_df.head()"
      ],
      "metadata": {
        "colab": {
          "base_uri": "https://localhost:8080/",
          "height": 206
        },
        "id": "P0u8BaJT6MQZ",
        "outputId": "ba8a4b5f-877b-4d23-d383-80879b62390c"
      },
      "execution_count": null,
      "outputs": [
        {
          "output_type": "execute_result",
          "data": {
            "text/html": [
              "\n",
              "  <div id=\"df-957c1825-0871-4159-bca1-1fc757ae7c4b\">\n",
              "    <div class=\"colab-df-container\">\n",
              "      <div>\n",
              "<style scoped>\n",
              "    .dataframe tbody tr th:only-of-type {\n",
              "        vertical-align: middle;\n",
              "    }\n",
              "\n",
              "    .dataframe tbody tr th {\n",
              "        vertical-align: top;\n",
              "    }\n",
              "\n",
              "    .dataframe thead th {\n",
              "        text-align: right;\n",
              "    }\n",
              "</style>\n",
              "<table border=\"1\" class=\"dataframe\">\n",
              "  <thead>\n",
              "    <tr style=\"text-align: right;\">\n",
              "      <th></th>\n",
              "      <th>id</th>\n",
              "      <th>keyword</th>\n",
              "      <th>location</th>\n",
              "      <th>text</th>\n",
              "    </tr>\n",
              "  </thead>\n",
              "  <tbody>\n",
              "    <tr>\n",
              "      <th>0</th>\n",
              "      <td>0</td>\n",
              "      <td>NaN</td>\n",
              "      <td>NaN</td>\n",
              "      <td>Just happened a terrible car crash</td>\n",
              "    </tr>\n",
              "    <tr>\n",
              "      <th>1</th>\n",
              "      <td>2</td>\n",
              "      <td>NaN</td>\n",
              "      <td>NaN</td>\n",
              "      <td>Heard about #earthquake is different cities, s...</td>\n",
              "    </tr>\n",
              "    <tr>\n",
              "      <th>2</th>\n",
              "      <td>3</td>\n",
              "      <td>NaN</td>\n",
              "      <td>NaN</td>\n",
              "      <td>there is a forest fire at spot pond, geese are...</td>\n",
              "    </tr>\n",
              "    <tr>\n",
              "      <th>3</th>\n",
              "      <td>9</td>\n",
              "      <td>NaN</td>\n",
              "      <td>NaN</td>\n",
              "      <td>Apocalypse lighting. #Spokane #wildfires</td>\n",
              "    </tr>\n",
              "    <tr>\n",
              "      <th>4</th>\n",
              "      <td>11</td>\n",
              "      <td>NaN</td>\n",
              "      <td>NaN</td>\n",
              "      <td>Typhoon Soudelor kills 28 in China and Taiwan</td>\n",
              "    </tr>\n",
              "  </tbody>\n",
              "</table>\n",
              "</div>\n",
              "      <button class=\"colab-df-convert\" onclick=\"convertToInteractive('df-957c1825-0871-4159-bca1-1fc757ae7c4b')\"\n",
              "              title=\"Convert this dataframe to an interactive table.\"\n",
              "              style=\"display:none;\">\n",
              "        \n",
              "  <svg xmlns=\"http://www.w3.org/2000/svg\" height=\"24px\"viewBox=\"0 0 24 24\"\n",
              "       width=\"24px\">\n",
              "    <path d=\"M0 0h24v24H0V0z\" fill=\"none\"/>\n",
              "    <path d=\"M18.56 5.44l.94 2.06.94-2.06 2.06-.94-2.06-.94-.94-2.06-.94 2.06-2.06.94zm-11 1L8.5 8.5l.94-2.06 2.06-.94-2.06-.94L8.5 2.5l-.94 2.06-2.06.94zm10 10l.94 2.06.94-2.06 2.06-.94-2.06-.94-.94-2.06-.94 2.06-2.06.94z\"/><path d=\"M17.41 7.96l-1.37-1.37c-.4-.4-.92-.59-1.43-.59-.52 0-1.04.2-1.43.59L10.3 9.45l-7.72 7.72c-.78.78-.78 2.05 0 2.83L4 21.41c.39.39.9.59 1.41.59.51 0 1.02-.2 1.41-.59l7.78-7.78 2.81-2.81c.8-.78.8-2.07 0-2.86zM5.41 20L4 18.59l7.72-7.72 1.47 1.35L5.41 20z\"/>\n",
              "  </svg>\n",
              "      </button>\n",
              "      \n",
              "  <style>\n",
              "    .colab-df-container {\n",
              "      display:flex;\n",
              "      flex-wrap:wrap;\n",
              "      gap: 12px;\n",
              "    }\n",
              "\n",
              "    .colab-df-convert {\n",
              "      background-color: #E8F0FE;\n",
              "      border: none;\n",
              "      border-radius: 50%;\n",
              "      cursor: pointer;\n",
              "      display: none;\n",
              "      fill: #1967D2;\n",
              "      height: 32px;\n",
              "      padding: 0 0 0 0;\n",
              "      width: 32px;\n",
              "    }\n",
              "\n",
              "    .colab-df-convert:hover {\n",
              "      background-color: #E2EBFA;\n",
              "      box-shadow: 0px 1px 2px rgba(60, 64, 67, 0.3), 0px 1px 3px 1px rgba(60, 64, 67, 0.15);\n",
              "      fill: #174EA6;\n",
              "    }\n",
              "\n",
              "    [theme=dark] .colab-df-convert {\n",
              "      background-color: #3B4455;\n",
              "      fill: #D2E3FC;\n",
              "    }\n",
              "\n",
              "    [theme=dark] .colab-df-convert:hover {\n",
              "      background-color: #434B5C;\n",
              "      box-shadow: 0px 1px 3px 1px rgba(0, 0, 0, 0.15);\n",
              "      filter: drop-shadow(0px 1px 2px rgba(0, 0, 0, 0.3));\n",
              "      fill: #FFFFFF;\n",
              "    }\n",
              "  </style>\n",
              "\n",
              "      <script>\n",
              "        const buttonEl =\n",
              "          document.querySelector('#df-957c1825-0871-4159-bca1-1fc757ae7c4b button.colab-df-convert');\n",
              "        buttonEl.style.display =\n",
              "          google.colab.kernel.accessAllowed ? 'block' : 'none';\n",
              "\n",
              "        async function convertToInteractive(key) {\n",
              "          const element = document.querySelector('#df-957c1825-0871-4159-bca1-1fc757ae7c4b');\n",
              "          const dataTable =\n",
              "            await google.colab.kernel.invokeFunction('convertToInteractive',\n",
              "                                                     [key], {});\n",
              "          if (!dataTable) return;\n",
              "\n",
              "          const docLinkHtml = 'Like what you see? Visit the ' +\n",
              "            '<a target=\"_blank\" href=https://colab.research.google.com/notebooks/data_table.ipynb>data table notebook</a>'\n",
              "            + ' to learn more about interactive tables.';\n",
              "          element.innerHTML = '';\n",
              "          dataTable['output_type'] = 'display_data';\n",
              "          await google.colab.output.renderOutput(dataTable, element);\n",
              "          const docLink = document.createElement('div');\n",
              "          docLink.innerHTML = docLinkHtml;\n",
              "          element.appendChild(docLink);\n",
              "        }\n",
              "      </script>\n",
              "    </div>\n",
              "  </div>\n",
              "  "
            ],
            "text/plain": [
              "   id keyword location                                               text\n",
              "0   0     NaN      NaN                 Just happened a terrible car crash\n",
              "1   2     NaN      NaN  Heard about #earthquake is different cities, s...\n",
              "2   3     NaN      NaN  there is a forest fire at spot pond, geese are...\n",
              "3   9     NaN      NaN           Apocalypse lighting. #Spokane #wildfires\n",
              "4  11     NaN      NaN      Typhoon Soudelor kills 28 in China and Taiwan"
            ]
          },
          "metadata": {},
          "execution_count": 7
        }
      ]
    },
    {
      "cell_type": "code",
      "source": [
        "#checking the value counts of the target \n",
        "train_df.target.value_counts()"
      ],
      "metadata": {
        "colab": {
          "base_uri": "https://localhost:8080/"
        },
        "id": "xpUwRV3z6SmC",
        "outputId": "c2c91563-b3c8-45b6-d933-bbf0b7680844"
      },
      "execution_count": null,
      "outputs": [
        {
          "output_type": "execute_result",
          "data": {
            "text/plain": [
              "0    4342\n",
              "1    3271\n",
              "Name: target, dtype: int64"
            ]
          },
          "metadata": {},
          "execution_count": 8
        }
      ]
    },
    {
      "cell_type": "markdown",
      "source": [
        "From above we can see the our data is almost balanced i.e negative class(target = 0) is 60% and positive class (target = 1) \n",
        "\n",
        "Where 0 - real disaster tweet\n",
        "      1 - fake disaster tweet"
      ],
      "metadata": {
        "id": "1iHvcxEg6fpJ"
      }
    },
    {
      "cell_type": "code",
      "source": [
        "# How many samples total?\n",
        "print(f\"Total training samples: {len(train_df)}\")\n",
        "print(f\"Total test samples: {len(test_df)}\")\n",
        "print(f\"Total samples: {len(train_df) + len(test_df)}\")"
      ],
      "metadata": {
        "colab": {
          "base_uri": "https://localhost:8080/"
        },
        "id": "xM9N1UT96Y8l",
        "outputId": "8bbbc49b-aef7-47e9-afa0-5d73691b22f0"
      },
      "execution_count": null,
      "outputs": [
        {
          "output_type": "stream",
          "name": "stdout",
          "text": [
            "Total training samples: 7613\n",
            "Total test samples: 3263\n",
            "Total samples: 10876\n"
          ]
        }
      ]
    },
    {
      "cell_type": "code",
      "source": [
        "#lets visualize some samples to have look at our data\n",
        "\n",
        "import random\n",
        "\n",
        "# create random indexes not higher than the total number of samples\n",
        "random_index = random.randint(0, len(train_df)-5) \n",
        "\n",
        "for row in train_df_shuffled[[\"text\", \"target\"]][random_index:random_index+5].itertuples():\n",
        "  _, text, target = row\n",
        "  print(f\"Target: {target}\", \"(real disaster)\" if target > 0 else \"(not real disaster)\")\n",
        "  print(f\"Text:\\n{text}\\n\")\n",
        "  print(\"---\\n\")"
      ],
      "metadata": {
        "colab": {
          "base_uri": "https://localhost:8080/"
        },
        "id": "OyWI7Wzz629x",
        "outputId": "998f4d62-4fff-4e35-bb80-82f0586b21ff"
      },
      "execution_count": null,
      "outputs": [
        {
          "output_type": "stream",
          "name": "stdout",
          "text": [
            "Target: 1 (real disaster)\n",
            "Text:\n",
            "#earthquake (EMSC): MD 2.9 OFF COAST OF NORTHERN CALIFORNIA http://t.co/6AiMd1uway G http://t.co/9cgbJwmhII\n",
            "\n",
            "---\n",
            "\n",
            "Target: 0 (not real disaster)\n",
            "Text:\n",
            "3 Things All Affiliate Marketers Need To Survive Online - Every affiliate marketer is always... http://t.co/kPMYqUJSUE\n",
            "\n",
            "---\n",
            "\n",
            "Target: 1 (real disaster)\n",
            "Text:\n",
            "Wreckage 'Conclusively Confirmed' as From MH370: Malaysia PM: Investigators and the families of those who were... http://t.co/EdEKrmqTpQ\n",
            "\n",
            "---\n",
            "\n",
            "Target: 1 (real disaster)\n",
            "Text:\n",
            "Crews working to restore power in southwest Omaha after vehicle collided with utility pole. - http://t.co/dAn0Gkx28l\n",
            "\n",
            "---\n",
            "\n",
            "Target: 0 (not real disaster)\n",
            "Text:\n",
            "Angry Woman Openly Accuses NEMA Of Stealing Relief Materials Meant For IDPs: An angry Internally Displaced wom... http://t.co/Khd99oZ7u3\n",
            "\n",
            "---\n",
            "\n"
          ]
        }
      ]
    },
    {
      "cell_type": "code",
      "source": [
        "from sklearn.model_selection import train_test_split\n",
        "\n",
        "# Splitting training data into train and validation sets\n",
        "train_sentences, val_sentences, train_labels, val_labels = train_test_split(train_df_shuffled[\"text\"].to_numpy(),\n",
        "                                                                            train_df_shuffled[\"target\"].to_numpy(),\n",
        "                                                                            test_size=0.1, \n",
        "                                                                            random_state=42) "
      ],
      "metadata": {
        "id": "FjEQoVOL7fs0"
      },
      "execution_count": null,
      "outputs": []
    },
    {
      "cell_type": "code",
      "source": [
        "# Check the lengths of all the above labels\n",
        "len(train_sentences), len(train_labels), len(val_sentences), len(val_labels)"
      ],
      "metadata": {
        "colab": {
          "base_uri": "https://localhost:8080/"
        },
        "id": "TQMGrmW88MiT",
        "outputId": "e276d574-8025-4a6b-c156-b9700fdc4d8a"
      },
      "execution_count": null,
      "outputs": [
        {
          "output_type": "execute_result",
          "data": {
            "text/plain": [
              "(6851, 6851, 762, 762)"
            ]
          },
          "metadata": {},
          "execution_count": 12
        }
      ]
    },
    {
      "cell_type": "code",
      "source": [
        "# View the first 10 training sentences and their labels\n",
        "train_sentences[:10], train_labels[:10]"
      ],
      "metadata": {
        "colab": {
          "base_uri": "https://localhost:8080/"
        },
        "id": "FMpnMtTd8Tbh",
        "outputId": "7f691302-8d06-4ce7-b26a-8c548ead028e"
      },
      "execution_count": null,
      "outputs": [
        {
          "output_type": "execute_result",
          "data": {
            "text/plain": [
              "(array(['@mogacola @zamtriossu i screamed after hitting tweet',\n",
              "        'Imagine getting flattened by Kurt Zouma',\n",
              "        '@Gurmeetramrahim #MSGDoing111WelfareWorks Green S welfare force ke appx 65000 members har time disaster victim ki help ke liye tyar hai....',\n",
              "        \"@shakjn @C7 @Magnums im shaking in fear he's gonna hack the planet\",\n",
              "        'Somehow find you and I collide http://t.co/Ee8RpOahPk',\n",
              "        '@EvaHanderek @MarleyKnysh great times until the bus driver held us hostage in the mall parking lot lmfao',\n",
              "        'destroy the free fandom honestly',\n",
              "        'Weapons stolen from National Guard Armory in New Albany still missing #Gunsense http://t.co/lKNU8902JE',\n",
              "        '@wfaaweather Pete when will the heat wave pass? Is it really going to be mid month? Frisco Boy Scouts have a canoe trip in Okla.',\n",
              "        'Patient-reported outcomes in long-term survivors of metastatic colorectal cancer - British Journal of Surgery http://t.co/5Yl4DC1Tqt'],\n",
              "       dtype=object), array([0, 0, 1, 0, 0, 1, 1, 0, 1, 1]))"
            ]
          },
          "metadata": {},
          "execution_count": 13
        }
      ]
    },
    {
      "cell_type": "markdown",
      "source": [
        "### Text vectorization (tokenization)\n",
        "\n",
        "\n",
        "\n",
        "To tokenize our words, we'll use the helpful preprocessing layer [`tf.keras.layers.experimental.preprocessing.TextVectorization`](https://www.tensorflow.org/api_docs/python/tf/keras/layers/experimental/preprocessing/TextVectorization).\n",
        "\n",
        "The `TextVectorization` layer takes the following parameters:\n",
        "* `max_tokens` - The maximum number of words in your vocabulary (e.g. 20000 or the number of unique words in your text), includes a value for OOV (out of vocabulary) tokens. \n",
        "* `standardize` - Method for standardizing text. Default is `\"lower_and_strip_punctuation\"` which lowers text and removes all punctuation marks.\n",
        "* `split` - How to split text, default is `\"whitespace\"` which splits on spaces.\n",
        "* `ngrams` - How many words to contain per token split, for example, `ngrams=2` splits tokens into continuous sequences of 2.\n",
        "* `output_mode` -  How to output tokens, can be `\"int\"` (integer mapping), `\"binary\"` (one-hot encoding), `\"count\"` or `\"tf-idf\"`. See documentation for more.\n",
        "* `output_sequence_length` - Length of tokenized sequence to output. For example, if `output_sequence_length=150`, all tokenized sequences will be 150 tokens long.\n",
        "* `pad_to_max_tokens` - Defaults to `False`, if `True`, the output feature axis will be padded to `max_tokens` even if the number of unique tokens in the vocabulary is less than `max_tokens`. Only valid in certain modes, see docs for more.\n",
        "import tensorflow as tf\n",
        "from tensorflow.keras.layers.experimental.preprocessing import TextVectorization\n",
        "\n",
        "\n",
        "\n",
        " **Note: in TensorFlow 2.6+, you no longer need \"layers.experimental.preprocessing\"\n",
        "we can use: \"tf.keras.layers.**\n",
        "\n",
        "TextVectorization\", see https://github.com/tensorflow/tensorflow/releases/tag/v2.6.0 for more\n",
        "\n",
        "Use the default TextVectorization variables\n",
        "\n",
        "\n",
        "```\n",
        "text_vectorizer = TextVectorization(\n",
        "max_tokens=None,  # how many words in the vocabulary all the different words in your text   \n",
        "standardize=\"lower_and_strip_punctuation\",  #how to process text\n",
        "split=\"whitespace\",   # how to split tokens\n",
        "ngrams=None,   # create groups of n-words?\n",
        "output_mode=\"int\",   # how to map tokens to numbers\n",
        "output_sequence_length=None,   #how long should the output sequence of tokens be?\n",
        "pad_to_max_tokens=True)   # Not valid if using max_tokens=None\n",
        "```\n",
        "\n"
      ],
      "metadata": {
        "id": "iS-9KcqmnhoG"
      }
    },
    {
      "cell_type": "code",
      "source": [
        "#find the average no of token(words) in training Tweets\n",
        "\n",
        "round(sum([len(i.split()) for i in train_sentences])/len(train_sentences))"
      ],
      "metadata": {
        "colab": {
          "base_uri": "https://localhost:8080/"
        },
        "id": "ar9ypBGnbNr9",
        "outputId": "44e27d77-14a9-4ce2-be5c-b44319c6042e"
      },
      "execution_count": null,
      "outputs": [
        {
          "output_type": "execute_result",
          "data": {
            "text/plain": [
              "15"
            ]
          },
          "metadata": {},
          "execution_count": 14
        }
      ]
    },
    {
      "cell_type": "code",
      "source": [
        "#creating out custom text vectorisation model \n",
        "import tensorflow as tf\n",
        "from tensorflow.keras.layers.experimental.preprocessing import TextVectorization\n",
        "\n",
        "max_vocab_length = 10000 #max number of words to have in our vocab \n",
        "max_length = 15 #max lenth our model will be shown of tweets\n",
        "\n",
        "text_vectorizer = TextVectorization(max_tokens=max_vocab_length,\n",
        "                                    output_mode=\"int\",\n",
        "                                    output_sequence_length=max_length)\n",
        "\n",
        "# Fit the text vectorizer to the training text\n",
        "text_vectorizer.adapt(train_sentences)"
      ],
      "metadata": {
        "id": "NW2fNafHbNiQ"
      },
      "execution_count": null,
      "outputs": []
    },
    {
      "cell_type": "code",
      "source": [
        "#Let's create sample sentence and tokenize it\n",
        "sample_sentence = \"There's a flood in my street!\"\n",
        "text_vectorizer([sample_sentence])"
      ],
      "metadata": {
        "colab": {
          "base_uri": "https://localhost:8080/"
        },
        "id": "XD2X23RbbNfX",
        "outputId": "1daa7b97-96c3-4445-97ee-a547064b44bd"
      },
      "execution_count": null,
      "outputs": [
        {
          "output_type": "execute_result",
          "data": {
            "text/plain": [
              "<tf.Tensor: shape=(1, 15), dtype=int64, numpy=\n",
              "array([[264,   3, 232,   4,  13, 698,   0,   0,   0,   0,   0,   0,   0,\n",
              "          0,   0]])>"
            ]
          },
          "metadata": {},
          "execution_count": 18
        }
      ]
    },
    {
      "cell_type": "markdown",
      "source": [
        "So we can see from above that our text vectorizer is working great as word level tokenization and also we are padding the text with 0 as we set in code the max lenght of senentce feeded to model."
      ],
      "metadata": {
        "id": "eB6QfWUmzmED"
      }
    },
    {
      "cell_type": "code",
      "source": [
        "#let check some randome sample from train dataset\n",
        "random_sentence = random.choice(train_sentences)\n",
        "print(f\"Original text:\\n{random_sentence}\\\n",
        "      \\n\\nVectorized version:\")\n",
        "text_vectorizer([random_sentence])"
      ],
      "metadata": {
        "colab": {
          "base_uri": "https://localhost:8080/"
        },
        "id": "2W_6GMAabNcJ",
        "outputId": "b0167abe-f108-4b54-94b8-4063584ee25d"
      },
      "execution_count": null,
      "outputs": [
        {
          "output_type": "stream",
          "name": "stdout",
          "text": [
            "Original text:\n",
            "the fall of leaves from a poplar is as fully ordained as the tumbling of an avalanche - Spurgeon      \n",
            "\n",
            "Vectorized version:\n"
          ]
        },
        {
          "output_type": "execute_result",
          "data": {
            "text/plain": [
              "<tf.Tensor: shape=(1, 15), dtype=int64, numpy=\n",
              "array([[   2,  278,    6, 2903,   20,    3, 4887,    9,   26, 1408,    1,\n",
              "          26,    2, 7312,    6]])>"
            ]
          },
          "metadata": {},
          "execution_count": 19
        }
      ]
    },
    {
      "cell_type": "code",
      "source": [
        "#lets check our vocabulary using get_vocabulary() method\n",
        "\n",
        "words_in_vocab = text_vectorizer.get_vocabulary()\n",
        "top_5_words = words_in_vocab[:5] # most common tokens (notice the [UNK] token for \"unknown\" words)\n",
        "bottom_5_words = words_in_vocab[-5:] # least common tokens\n",
        "print(f\"Number of words in vocab: {len(words_in_vocab)}\")\n",
        "print(f\"Top 5 most common words: {top_5_words}\") \n",
        "print(f\"Bottom 5 least common words: {bottom_5_words}\")"
      ],
      "metadata": {
        "colab": {
          "base_uri": "https://localhost:8080/"
        },
        "id": "w0c7IM6cbNY2",
        "outputId": "39608ac1-eb3e-4652-e716-62dfed14a11d"
      },
      "execution_count": null,
      "outputs": [
        {
          "output_type": "stream",
          "name": "stdout",
          "text": [
            "Number of words in vocab: 10000\n",
            "Top 5 most common words: ['', '[UNK]', 'the', 'a', 'in']\n",
            "Bottom 5 least common words: ['pages', 'paeds', 'pads', 'padres', 'paddytomlinson1']\n"
          ]
        }
      ]
    },
    {
      "cell_type": "markdown",
      "source": [
        "### Word Embedding using an Embedding Layer\n",
        "\n",
        "We've got a way to map our text to numbers. \n",
        "Now lets create an embdedding layer\n",
        "\n",
        "An embedding ilayer weights can be learned during training. This means rather than just being static (e.g. `1` = I, `2` = love, `3` = TensorFlow), a word's numeric representation can be improved as a model goes through data samples.\n",
        "\n",
        "We can see what an embedding of a word looks like by using the [`tf.keras.layers.Embedding`](https://www.tensorflow.org/api_docs/python/tf/keras/layers/Embedding) layer. \n",
        "\n",
        "The main parameters we're concerned about here are:\n",
        "* `input_dim` - The size of the vocabulary (e.g. `len(text_vectorizer.get_vocabulary()`).\n",
        "* `output_dim` - The size of the output embedding vector, for example, a value of `100` outputs a  feature vector of size 100 for each word.\n",
        "* `embeddings_initializer` - How to initialize the embeddings matrix, default is `\"uniform\"` which randomly initalizes embedding matrix with uniform distribution. This can be changed for using pre-learned embeddings.\n",
        "* `input_length` - Length of sequences being passed to embedding layer.\n",
        "\n",
        "Knowing these, let's make an embedding layer."
      ],
      "metadata": {
        "id": "XVGSX5zW0tW1"
      }
    },
    {
      "cell_type": "code",
      "source": [
        "tf.random.set_seed(42)\n",
        "from tensorflow.keras import layers\n",
        "\n",
        "embedding = layers.Embedding(input_dim=max_vocab_length, # set input shape\n",
        "                             output_dim=128, # set size of embedding vector\n",
        "                             embeddings_initializer=\"uniform\", # default, intialize randomly\n",
        "                             input_length=max_length, # how long is each input\n",
        "                             name=\"embedding_1\") \n",
        "\n",
        "embedding"
      ],
      "metadata": {
        "colab": {
          "base_uri": "https://localhost:8080/"
        },
        "id": "92w2Zgjh0fNs",
        "outputId": "b1bc577c-fa1b-4019-bb50-091c220c6c55"
      },
      "execution_count": null,
      "outputs": [
        {
          "output_type": "execute_result",
          "data": {
            "text/plain": [
              "<keras.layers.embeddings.Embedding at 0x7f490cda7dd0>"
            ]
          },
          "metadata": {},
          "execution_count": 21
        }
      ]
    },
    {
      "cell_type": "code",
      "source": [
        "# Get a random sentence from training set\n",
        "random_sentence = random.choice(train_sentences)\n",
        "print(f\"Original text:\\n{random_sentence}\\\n",
        "      \\n\\nEmbedded version:\")\n",
        "\n",
        "# Embed the random sentence (turn it into numerical representation)\n",
        "sample_embed = embedding(text_vectorizer([random_sentence]))\n",
        "sample_embed"
      ],
      "metadata": {
        "colab": {
          "base_uri": "https://localhost:8080/"
        },
        "id": "5B5_smP-1Er3",
        "outputId": "6d0e0fd9-c439-455d-96c9-14a253251eac"
      },
      "execution_count": null,
      "outputs": [
        {
          "output_type": "stream",
          "name": "stdout",
          "text": [
            "Original text:\n",
            "What really happened in the Taken King Story Trailer. A space battle that ripped a hole in Saturn. @EyTay @neur0sis http://t.co/ZYRZX6dfki      \n",
            "\n",
            "Embedded version:\n"
          ]
        },
        {
          "output_type": "execute_result",
          "data": {
            "text/plain": [
              "<tf.Tensor: shape=(1, 15, 128), dtype=float32, numpy=\n",
              "array([[[-0.01456394,  0.02664156, -0.0070488 , ...,  0.00958163,\n",
              "         -0.01225308,  0.04130488],\n",
              "        [ 0.04385186,  0.03348636, -0.02515814, ...,  0.00960597,\n",
              "          0.01970066, -0.03117456],\n",
              "        [ 0.02563855, -0.00849898,  0.02899616, ...,  0.02587763,\n",
              "          0.00313853,  0.01257442],\n",
              "        ...,\n",
              "        [ 0.02277004, -0.04287119,  0.01870605, ...,  0.04251286,\n",
              "          0.04716172, -0.0266092 ],\n",
              "        [-0.00094712, -0.03146295,  0.0372755 , ..., -0.02307394,\n",
              "          0.02388395, -0.01714142],\n",
              "        [-0.04284013, -0.01489798, -0.0159496 , ..., -0.01166106,\n",
              "          0.03061062,  0.01972148]]], dtype=float32)>"
            ]
          },
          "metadata": {},
          "execution_count": 22
        }
      ]
    },
    {
      "cell_type": "code",
      "source": [
        "# Check out a single token's embedding\n",
        "sample_embed[0][0]"
      ],
      "metadata": {
        "colab": {
          "base_uri": "https://localhost:8080/"
        },
        "id": "D1YJRhGX1HQz",
        "outputId": "178af833-5cd9-4b70-c536-161108056ae1"
      },
      "execution_count": null,
      "outputs": [
        {
          "output_type": "execute_result",
          "data": {
            "text/plain": [
              "<tf.Tensor: shape=(128,), dtype=float32, numpy=\n",
              "array([-0.01456394,  0.02664156, -0.0070488 , -0.01578101,  0.01857844,\n",
              "       -0.03789372, -0.02296357,  0.04445826,  0.00534431, -0.04086939,\n",
              "       -0.0001178 ,  0.0325787 ,  0.01795044, -0.00840222,  0.02777113,\n",
              "        0.00267535,  0.00249401, -0.02981182,  0.00419725, -0.01612579,\n",
              "       -0.04731787, -0.00343758, -0.01875019,  0.0197308 ,  0.02892964,\n",
              "        0.02087852,  0.0311374 , -0.02340465, -0.02849378,  0.0206467 ,\n",
              "        0.02238199,  0.03973413,  0.02957373, -0.02066603,  0.00601099,\n",
              "        0.01802809,  0.03249015, -0.03012767,  0.00128162,  0.03171993,\n",
              "        0.02708571,  0.0370943 ,  0.02782694,  0.01861149, -0.00639851,\n",
              "       -0.04907566, -0.01623199, -0.03895655,  0.0074303 ,  0.02819103,\n",
              "        0.03139831,  0.02758573, -0.0115862 , -0.03698015, -0.0286014 ,\n",
              "       -0.01950072,  0.03606139, -0.00383686, -0.00495111,  0.02097936,\n",
              "        0.04864902, -0.00507084, -0.04891219,  0.03100859, -0.04584966,\n",
              "       -0.04661892,  0.04723359,  0.01014749, -0.0444796 , -0.02974148,\n",
              "        0.01410664, -0.01903608, -0.01665954,  0.04108468,  0.025821  ,\n",
              "        0.02307484,  0.03998167, -0.01504375, -0.02738895,  0.04480667,\n",
              "        0.03261295,  0.02876205, -0.02455351,  0.03702283, -0.03475856,\n",
              "       -0.01109306,  0.01178474,  0.01599922, -0.04826872,  0.01006013,\n",
              "        0.04161341, -0.04461882,  0.03000761, -0.04534909,  0.00575227,\n",
              "       -0.04405455,  0.03375131,  0.01866882,  0.02597454, -0.02826529,\n",
              "        0.01185572,  0.02515176, -0.02291529, -0.00910337,  0.04720522,\n",
              "       -0.04823134, -0.01572131, -0.02419223,  0.03115335,  0.03728981,\n",
              "       -0.03541558, -0.0437373 , -0.03500152, -0.02329121, -0.00831964,\n",
              "        0.02684801,  0.02562361, -0.00290233, -0.03110107,  0.01048255,\n",
              "        0.04622916, -0.03771341,  0.01037337, -0.04327595, -0.01171871,\n",
              "        0.00958163, -0.01225308,  0.04130488], dtype=float32)>"
            ]
          },
          "metadata": {},
          "execution_count": 23
        }
      ]
    },
    {
      "cell_type": "markdown",
      "source": [
        "# Model Building\n",
        "\n",
        "Here we will be making following models for our problem\n",
        "\n",
        "* **Model 0**: Naive Bayes (baseline)\n",
        "* **Model 1**: Feed-forward neural network (dense model)\n",
        "* **Model 2**: LSTM model\n",
        "* **Model 3**: GRU model\n",
        "* **Model 4**: Bidirectional-LSTM model\n",
        "* **Model 5**: 1D Convolutional Neural Network\n",
        "* **Model 6**: TensorFlow Hub Pretrained Feature Extractor\n",
        "* **Model 7**: Same as model 6 with 10% of training data\n",
        "\n"
      ],
      "metadata": {
        "id": "1K9W0wSm1i7F"
      }
    },
    {
      "cell_type": "code",
      "source": [
        "# Function to evaluate: accuracy, precision, recall, f1-score\n",
        "from sklearn.metrics import accuracy_score, precision_recall_fscore_support\n",
        "\n",
        "def calculate_results(y_true, y_pred):\n",
        "  \"\"\"\n",
        "  Calculates model accuracy, precision, recall and f1 score of a binary classification model.\n",
        "\n",
        "  Args:\n",
        "  -----\n",
        "  y_true = true labels in the form of a 1D array\n",
        "  y_pred = predicted labels in the form of a 1D array\n",
        "\n",
        "  Returns a dictionary of accuracy, precision, recall, f1-score.\n",
        "  \"\"\"\n",
        "  # Calculate model accuracy\n",
        "  model_accuracy = accuracy_score(y_true, y_pred) * 100\n",
        "  # Calculate model precision, recall and f1 score using \"weighted\" average\n",
        "  model_precision, model_recall, model_f1, _ = precision_recall_fscore_support(y_true, y_pred, average=\"weighted\")\n",
        "  model_results = {\"accuracy\": model_accuracy,\n",
        "                  \"precision\": model_precision,\n",
        "                  \"recall\": model_recall,\n",
        "                  \"f1\": model_f1}\n",
        "  return model_results"
      ],
      "metadata": {
        "id": "VGx7TRnb2vHq"
      },
      "execution_count": null,
      "outputs": []
    },
    {
      "cell_type": "markdown",
      "source": [
        "### Model 0 : Navie Bayes Model \n"
      ],
      "metadata": {
        "id": "4ppADUSw10VO"
      }
    },
    {
      "cell_type": "code",
      "source": [
        "from sklearn.feature_extraction.text import TfidfVectorizer \n",
        "from sklearn.naive_bayes import MultinomialNB \n",
        "from sklearn.pipeline import Pipeline \n",
        "\n",
        "model_0 = Pipeline (\n",
        "    [\n",
        "          (\"tfidf\", TfidfVectorizer()), # convert words to numbers using tfidf\n",
        "                    (\"clf\", MultinomialNB()) # model the text\n",
        "     \n",
        "    ])\n",
        "\n",
        "# Fit the pipeline to the training data\n",
        "model_0.fit(train_sentences, train_labels)"
      ],
      "metadata": {
        "colab": {
          "base_uri": "https://localhost:8080/"
        },
        "id": "cPNEbQn91MWd",
        "outputId": "61ea7d1d-5ac7-407e-ae01-7080a1c518a0"
      },
      "execution_count": null,
      "outputs": [
        {
          "output_type": "execute_result",
          "data": {
            "text/plain": [
              "Pipeline(steps=[('tfidf', TfidfVectorizer()), ('clf', MultinomialNB())])"
            ]
          },
          "metadata": {},
          "execution_count": 25
        }
      ]
    },
    {
      "cell_type": "code",
      "source": [
        "#let check the accuracy of our model\n",
        "\n",
        "baseline_score = model_0.score(val_sentences, val_labels)\n",
        "print(f\"Our baseline model achieves an accuracy of: {baseline_score*100:.2f}%\")"
      ],
      "metadata": {
        "colab": {
          "base_uri": "https://localhost:8080/"
        },
        "id": "uHYdowqw2dTQ",
        "outputId": "14e805e2-407e-474b-b799-820ee3afcb70"
      },
      "execution_count": null,
      "outputs": [
        {
          "output_type": "stream",
          "name": "stdout",
          "text": [
            "Our baseline model achieves an accuracy of: 79.27%\n"
          ]
        }
      ]
    },
    {
      "cell_type": "code",
      "source": [
        "# Make predictions\n",
        "baseline_preds = model_0.predict(val_sentences)\n",
        "baseline_preds[:20]"
      ],
      "metadata": {
        "colab": {
          "base_uri": "https://localhost:8080/"
        },
        "id": "6od3Xy3g2itF",
        "outputId": "54403c6c-18aa-4e74-90c2-87abc4e3b1da"
      },
      "execution_count": null,
      "outputs": [
        {
          "output_type": "execute_result",
          "data": {
            "text/plain": [
              "array([1, 1, 1, 0, 0, 1, 1, 1, 1, 0, 0, 1, 0, 0, 0, 0, 0, 0, 0, 1])"
            ]
          },
          "metadata": {},
          "execution_count": 28
        }
      ]
    },
    {
      "cell_type": "code",
      "source": [
        "baseline_results = calculate_results(y_true=val_labels,\n",
        "                                     y_pred=baseline_preds)\n",
        "\n",
        "#finding model accuracy\n",
        "baseline_results"
      ],
      "metadata": {
        "colab": {
          "base_uri": "https://localhost:8080/"
        },
        "id": "w3udMX132pHA",
        "outputId": "705cfbdf-247a-463e-e242-3624765b0709"
      },
      "execution_count": null,
      "outputs": [
        {
          "output_type": "execute_result",
          "data": {
            "text/plain": [
              "{'accuracy': 79.26509186351706,\n",
              " 'f1': 0.7862189758049549,\n",
              " 'precision': 0.8111390004213173,\n",
              " 'recall': 0.7926509186351706}"
            ]
          },
          "metadata": {},
          "execution_count": 31
        }
      ]
    },
    {
      "cell_type": "markdown",
      "source": [
        "### Model 1 : A Simple Dense Model "
      ],
      "metadata": {
        "id": "V3L1P56uQJm4"
      }
    },
    {
      "cell_type": "code",
      "source": [
        " # Create tensorboard callback (need to create a new one for each model)\n",
        "from helper_functions import create_tensorboard_callback\n",
        "\n",
        "# Create directory to save TensorBoard logs\n",
        "SAVE_DIR = \"model_logs\""
      ],
      "metadata": {
        "id": "apacQ9r4210F"
      },
      "execution_count": null,
      "outputs": []
    },
    {
      "cell_type": "code",
      "source": [
        "\n",
        "from tensorflow.keras import layers\n",
        "\n",
        "inputs = layers.Input(shape=(1,),dtype = \"string\") #taking input as strings\n",
        "x = text_vectorizer(inputs) #turning text into nos \n",
        "x = embedding(x) #create embedding numbers \n",
        "x = layers.GlobalAveragePooling1D()(x) #To Lower the dimenson of embedding \n",
        "outputs = layers.Dense(1,activation=\"sigmoid\")(x) #create the dense layer\n",
        "\n",
        "model_1 = tf.keras.Model(inputs, outputs, name=\"model_1_dense\")\n",
        "# Compile model\n",
        "model_1.compile(loss=\"binary_crossentropy\",\n",
        "                optimizer=tf.keras.optimizers.Adam(),\n",
        "                metrics=[\"accuracy\"])\n",
        "model_1.summary()\n"
      ],
      "metadata": {
        "colab": {
          "base_uri": "https://localhost:8080/"
        },
        "id": "i44zu0PoQVs8",
        "outputId": "eba9303e-a368-4fcf-8cca-78846d6b4a05"
      },
      "execution_count": null,
      "outputs": [
        {
          "output_type": "stream",
          "name": "stdout",
          "text": [
            "Model: \"model_1_dense\"\n",
            "_________________________________________________________________\n",
            " Layer (type)                Output Shape              Param #   \n",
            "=================================================================\n",
            " input_3 (InputLayer)        [(None, 1)]               0         \n",
            "                                                                 \n",
            " text_vectorization_1 (TextV  (None, 15)               0         \n",
            " ectorization)                                                   \n",
            "                                                                 \n",
            " embedding_1 (Embedding)     (None, 15, 128)           1280000   \n",
            "                                                                 \n",
            " global_average_pooling1d_1   (None, 128)              0         \n",
            " (GlobalAveragePooling1D)                                        \n",
            "                                                                 \n",
            " dense_1 (Dense)             (None, 1)                 129       \n",
            "                                                                 \n",
            "=================================================================\n",
            "Total params: 1,280,129\n",
            "Trainable params: 1,280,129\n",
            "Non-trainable params: 0\n",
            "_________________________________________________________________\n"
          ]
        }
      ]
    },
    {
      "cell_type": "code",
      "source": [
        "# Fit the model\n",
        "model_1_history = model_1.fit(train_sentences, # input sentences can be a list of strings due to text preprocessing layer built-in model\n",
        "                              train_labels,\n",
        "                              epochs=5,\n",
        "                              validation_data=(val_sentences, val_labels),\n",
        "                              callbacks=[create_tensorboard_callback(dir_name=SAVE_DIR, \n",
        "                                                                     experiment_name=\"simple_dense_model\")])"
      ],
      "metadata": {
        "colab": {
          "base_uri": "https://localhost:8080/"
        },
        "id": "ztp_KTixRVcI",
        "outputId": "8cec367e-78cd-405d-ddae-b0e7f9e3fa48"
      },
      "execution_count": null,
      "outputs": [
        {
          "output_type": "stream",
          "name": "stdout",
          "text": [
            "Saving TensorBoard log files to: model_logs/simple_dense_model/20220102-101234\n",
            "Epoch 1/5\n",
            "215/215 [==============================] - 6s 24ms/step - loss: 0.6096 - accuracy: 0.6944 - val_loss: 0.5363 - val_accuracy: 0.7520\n",
            "Epoch 2/5\n",
            "215/215 [==============================] - 4s 20ms/step - loss: 0.4413 - accuracy: 0.8194 - val_loss: 0.4693 - val_accuracy: 0.7835\n",
            "Epoch 3/5\n",
            "215/215 [==============================] - 3s 14ms/step - loss: 0.3464 - accuracy: 0.8610 - val_loss: 0.4590 - val_accuracy: 0.7887\n",
            "Epoch 4/5\n",
            "215/215 [==============================] - 3s 14ms/step - loss: 0.2849 - accuracy: 0.8915 - val_loss: 0.4641 - val_accuracy: 0.7887\n",
            "Epoch 5/5\n",
            "215/215 [==============================] - 3s 14ms/step - loss: 0.2380 - accuracy: 0.9127 - val_loss: 0.4764 - val_accuracy: 0.7874\n"
          ]
        }
      ]
    },
    {
      "cell_type": "code",
      "source": [
        "model_1.evaluate(val_sentences, val_labels)"
      ],
      "metadata": {
        "colab": {
          "base_uri": "https://localhost:8080/"
        },
        "id": "feRqy5YGRsMT",
        "outputId": "dfece0a6-1310-4234-912e-760aa9fdbebd"
      },
      "execution_count": null,
      "outputs": [
        {
          "output_type": "stream",
          "name": "stdout",
          "text": [
            "24/24 [==============================] - 0s 2ms/step - loss: 0.4764 - accuracy: 0.7874\n"
          ]
        },
        {
          "output_type": "execute_result",
          "data": {
            "text/plain": [
              "[0.47642412781715393, 0.787401556968689]"
            ]
          },
          "metadata": {},
          "execution_count": 38
        }
      ]
    },
    {
      "cell_type": "code",
      "source": [
        "embedding.weights"
      ],
      "metadata": {
        "colab": {
          "base_uri": "https://localhost:8080/"
        },
        "id": "NHO8gl1rR2oL",
        "outputId": "dcc6507a-de28-4cb6-de95-27ca5c1bdeb6"
      },
      "execution_count": null,
      "outputs": [
        {
          "output_type": "execute_result",
          "data": {
            "text/plain": [
              "[<tf.Variable 'embedding_1/embeddings:0' shape=(10000, 128) dtype=float32, numpy=\n",
              " array([[ 0.00202856, -0.02155778,  0.00275221, ..., -0.0422562 ,\n",
              "         -0.00822866,  0.01538815],\n",
              "        [ 0.03533823, -0.04215356, -0.03016877, ..., -0.00355751,\n",
              "          0.02705194,  0.03206429],\n",
              "        [ 0.01182706,  0.01262978,  0.02917519, ..., -0.06003303,\n",
              "         -0.04364321,  0.01338253],\n",
              "        ...,\n",
              "        [-0.03301444, -0.0052493 , -0.04209725, ...,  0.02028764,\n",
              "          0.00308807,  0.02215792],\n",
              "        [ 0.00788765, -0.02609354,  0.05236164, ..., -0.05528514,\n",
              "         -0.01142916,  0.04141686],\n",
              "        [-0.03701389, -0.07432979,  0.05488915, ..., -0.02050988,\n",
              "         -0.08764114,  0.02116849]], dtype=float32)>]"
            ]
          },
          "metadata": {},
          "execution_count": 39
        }
      ]
    },
    {
      "cell_type": "code",
      "source": [
        "embed_weights = model_1.get_layer(\"embedding_1\").get_weights()[0]\n",
        "print(embed_weights.shape)"
      ],
      "metadata": {
        "colab": {
          "base_uri": "https://localhost:8080/"
        },
        "id": "c1fqSVfbR5w1",
        "outputId": "de114ce8-fb4a-4efc-9aed-56af1737427d"
      },
      "execution_count": null,
      "outputs": [
        {
          "output_type": "stream",
          "name": "stdout",
          "text": [
            "(10000, 128)\n"
          ]
        }
      ]
    },
    {
      "cell_type": "code",
      "source": [
        "# Make predictions (these come back in the form of probabilities)\n",
        "model_1_pred_probs = model_1.predict(val_sentences)\n",
        "model_1_pred_probs[:10] # only print out the first 10 prediction probabilities"
      ],
      "metadata": {
        "colab": {
          "base_uri": "https://localhost:8080/"
        },
        "id": "pBxnwxvn-oX0",
        "outputId": "c325c0f4-f347-4dfa-c306-b36d170ddfd7"
      },
      "execution_count": null,
      "outputs": [
        {
          "output_type": "execute_result",
          "data": {
            "text/plain": [
              "array([[0.41302985],\n",
              "       [0.74585366],\n",
              "       [0.9977267 ],\n",
              "       [0.10819986],\n",
              "       [0.10324275],\n",
              "       [0.93573475],\n",
              "       [0.9114057 ],\n",
              "       [0.99308753],\n",
              "       [0.9687748 ],\n",
              "       [0.26211113]], dtype=float32)"
            ]
          },
          "metadata": {},
          "execution_count": 41
        }
      ]
    },
    {
      "cell_type": "code",
      "source": [
        "# Turn prediction probabilities into single-dimension tensor of floats\n",
        "model_1_preds = tf.squeeze(tf.round(model_1_pred_probs)) # squeeze removes single dimensions\n",
        "model_1_preds[:20]"
      ],
      "metadata": {
        "colab": {
          "base_uri": "https://localhost:8080/"
        },
        "id": "CRboDSD4-vom",
        "outputId": "c31cbbc8-9597-4472-a845-a77f81ce61e1"
      },
      "execution_count": null,
      "outputs": [
        {
          "output_type": "execute_result",
          "data": {
            "text/plain": [
              "<tf.Tensor: shape=(20,), dtype=float32, numpy=\n",
              "array([0., 1., 1., 0., 0., 1., 1., 1., 1., 0., 0., 1., 0., 0., 0., 0., 0.,\n",
              "       0., 0., 1.], dtype=float32)>"
            ]
          },
          "metadata": {},
          "execution_count": 42
        }
      ]
    },
    {
      "cell_type": "code",
      "source": [
        "# Calculate model_1 metrics\n",
        "model_1_results = calculate_results(y_true=val_labels, \n",
        "                                    y_pred=model_1_preds)\n",
        "model_1_results"
      ],
      "metadata": {
        "colab": {
          "base_uri": "https://localhost:8080/"
        },
        "id": "B3gQJlzT-z0Q",
        "outputId": "a8c7bcdd-e85f-4aab-a764-30845dc486b3"
      },
      "execution_count": null,
      "outputs": [
        {
          "output_type": "execute_result",
          "data": {
            "text/plain": [
              "{'accuracy': 78.74015748031496,\n",
              " 'f1': 0.7846966492209201,\n",
              " 'precision': 0.7914920592553047,\n",
              " 'recall': 0.7874015748031497}"
            ]
          },
          "metadata": {},
          "execution_count": 43
        }
      ]
    },
    {
      "cell_type": "code",
      "source": [
        "# Create a helper function to compare our baseline results to new model results\n",
        "def compare_baseline_to_new_results(baseline_results, new_model_results):\n",
        "  for key, value in baseline_results.items():\n",
        "    print(f\"Baseline {key}: {value:.2f}, New {key}: {new_model_results[key]:.2f}, Difference: {new_model_results[key]-value:.2f}\")\n",
        "\n",
        "compare_baseline_to_new_results(baseline_results=baseline_results, \n",
        "                                new_model_results=model_1_results)"
      ],
      "metadata": {
        "colab": {
          "base_uri": "https://localhost:8080/"
        },
        "id": "o04UlH_B-2sw",
        "outputId": "f6505212-e4c7-4501-b30b-e57dc25da001"
      },
      "execution_count": null,
      "outputs": [
        {
          "output_type": "stream",
          "name": "stdout",
          "text": [
            "Baseline accuracy: 79.27, New accuracy: 78.74, Difference: -0.52\n",
            "Baseline precision: 0.81, New precision: 0.79, Difference: -0.02\n",
            "Baseline recall: 0.79, New recall: 0.79, Difference: -0.01\n",
            "Baseline f1: 0.79, New f1: 0.78, Difference: -0.00\n"
          ]
        }
      ]
    },
    {
      "cell_type": "code",
      "source": [
        "# # View tensorboard logs of transfer learning modelling experiments (should be 4 models)\n",
        "# # Upload TensorBoard dev records\n",
        "!tensorboard dev upload --logdir ./model_logs \\\n",
        "  --name \"First deep model on text data\" \\\n",
        "  --description \"Trying a dense model with an embedding layer\" \\\n",
        "  --one_shot # exits the uploader when upload has finished\n",
        "\n",
        "\n",
        "# If we need to remove previous experiments, we can do so using the following command\n",
        "# !tensorboard dev delete --experiment_id EXPERIMENT_ID_TO_DELETE"
      ],
      "metadata": {
        "colab": {
          "base_uri": "https://localhost:8080/"
        },
        "id": "McF5aKDM-6Sk",
        "outputId": "cbd68c4d-7043-487a-937f-34f4ae7f8b59"
      },
      "execution_count": null,
      "outputs": [
        {
          "output_type": "stream",
          "name": "stdout",
          "text": [
            "2022-01-02 13:31:25.093810: E tensorflow/stream_executor/cuda/cuda_driver.cc:271] failed call to cuInit: CUDA_ERROR_NO_DEVICE: no CUDA-capable device is detected\n",
            "\n",
            "***** TensorBoard Uploader *****\n",
            "\n",
            "This will upload your TensorBoard logs to https://tensorboard.dev/ from\n",
            "the following directory:\n",
            "\n",
            "./model_logs\n",
            "\n",
            "This TensorBoard will be visible to everyone. Do not upload sensitive\n",
            "data.\n",
            "\n",
            "Your use of this service is subject to Google's Terms of Service\n",
            "<https://policies.google.com/terms> and Privacy Policy\n",
            "<https://policies.google.com/privacy>, and TensorBoard.dev's Terms of Service\n",
            "<https://tensorboard.dev/policy/terms/>.\n",
            "\n",
            "This notice will not be shown again while you are logged into the uploader.\n",
            "To log out, run `tensorboard dev auth revoke`.\n",
            "\n",
            "Continue? (yes/NO) yes\n",
            "\n",
            "Please visit this URL to authorize this application: https://accounts.google.com/o/oauth2/auth?response_type=code&client_id=373649185512-8v619h5kft38l4456nm2dj4ubeqsrvh6.apps.googleusercontent.com&redirect_uri=urn%3Aietf%3Awg%3Aoauth%3A2.0%3Aoob&scope=openid+https%3A%2F%2Fwww.googleapis.com%2Fauth%2Fuserinfo.email&state=V7vHCTTZnbbII8Ca74mpxgJ5yb4lwV&prompt=consent&access_type=offline\n",
            "Enter the authorization code: 4/1AX4XfWhjFor0HLbtutdk1Uerjzi0lodr4auMEiRyo79hwqEgFyasrtEI-KI\n",
            "\n",
            "\n",
            "New experiment created. View your TensorBoard at: https://tensorboard.dev/experiment/MOJCPRm1RmCLqgYBsyAlew/\n",
            "\n",
            "\u001b[1m[2022-01-02T13:31:50]\u001b[0m Started scanning logdir.\n",
            "\u001b[1m[2022-01-02T13:31:51]\u001b[0m Total uploaded: 30 scalars, 0 tensors, 1 binary objects (63.5 kB)\n",
            "\u001b[1m[2022-01-02T13:31:51]\u001b[0m Done scanning logdir.\n",
            "\n",
            "\n",
            "Done. View your TensorBoard at https://tensorboard.dev/experiment/MOJCPRm1RmCLqgYBsyAlew/\n"
          ]
        }
      ]
    },
    {
      "cell_type": "markdown",
      "source": [
        "\n",
        "\n",
        "> **Oragne** - Train\n",
        "\n",
        "\n",
        "> **Blue** - Validation \n",
        "\n",
        "\n",
        "\n",
        "\n"
      ],
      "metadata": {
        "id": "6Ua6a9Nc_8Qk"
      }
    },
    {
      "cell_type": "markdown",
      "source": [
        "![image.png](data:image/png;base64,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)\n",
        "\n",
        "\n",
        "\n",
        "![image.png](data:image/png;base64,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)"
      ],
      "metadata": {
        "id": "mCYO-yio_sMo"
      }
    },
    {
      "cell_type": "markdown",
      "source": [
        "## Visualizing learned embeddings\n",
        "\n",
        "Our first model (`model_1`) contained an embedding layer (`embedding`) which learned a way of representing words as feature vectors by passing over the training data.\n",
        "\n",
        "We can get those weights and visualise them for more better understanding.\n",
        "\n",
        "We will be using [Embedding Projector tool](http://projector.tensorflow.org/_) by tensorflow.\n",
        "\n",
        "\n",
        "To use the Embedding Projector tool, we need two files:\n",
        "* The embedding vectors (same as embedding weights).\n",
        "* The meta data of the embedding vectors (the words they represent - our vocabulary).\n",
        "\n",
        "\n",
        "to get above file we're going to [use the code example available on the TensorFlow word embeddings tutorial page](https://www.tensorflow.org/tutorials/text/word_embeddings#retrieve_the_trained_word_embeddings_and_save_them_to_disk)"
      ],
      "metadata": {
        "id": "7l7iiJN9F-bp"
      }
    },
    {
      "cell_type": "code",
      "source": [
        "# Get the vocabulary from the text vectorization layer\n",
        "words_in_vocab = text_vectorizer.get_vocabulary()\n",
        "len(words_in_vocab), words_in_vocab[:10]"
      ],
      "metadata": {
        "id": "38jteAgk_Lbr",
        "colab": {
          "base_uri": "https://localhost:8080/"
        },
        "outputId": "934c3c8f-aa65-4dc3-f301-c2c8a6d589df"
      },
      "execution_count": 49,
      "outputs": [
        {
          "output_type": "execute_result",
          "data": {
            "text/plain": [
              "(10000, ['', '[UNK]', 'the', 'a', 'in', 'to', 'of', 'and', 'i', 'is'])"
            ]
          },
          "metadata": {},
          "execution_count": 49
        }
      ]
    },
    {
      "cell_type": "code",
      "source": [
        "model_1.summary()"
      ],
      "metadata": {
        "colab": {
          "base_uri": "https://localhost:8080/"
        },
        "id": "hpymqSvAGRrq",
        "outputId": "6ca9753d-d382-4f24-dd22-1d24dd7d49f4"
      },
      "execution_count": 47,
      "outputs": [
        {
          "output_type": "stream",
          "name": "stdout",
          "text": [
            "Model: \"model_1_dense\"\n",
            "_________________________________________________________________\n",
            " Layer (type)                Output Shape              Param #   \n",
            "=================================================================\n",
            " input_3 (InputLayer)        [(None, 1)]               0         \n",
            "                                                                 \n",
            " text_vectorization_1 (TextV  (None, 15)               0         \n",
            " ectorization)                                                   \n",
            "                                                                 \n",
            " embedding_1 (Embedding)     (None, 15, 128)           1280000   \n",
            "                                                                 \n",
            " global_average_pooling1d_1   (None, 128)              0         \n",
            " (GlobalAveragePooling1D)                                        \n",
            "                                                                 \n",
            " dense_1 (Dense)             (None, 1)                 129       \n",
            "                                                                 \n",
            "=================================================================\n",
            "Total params: 1,280,129\n",
            "Trainable params: 1,280,129\n",
            "Non-trainable params: 0\n",
            "_________________________________________________________________\n"
          ]
        }
      ]
    },
    {
      "cell_type": "code",
      "source": [
        "# Get the weight matrix of embedding layer \n",
        "# (these are the numerical patterns between the text in the training dataset the model has learned)\n",
        "embed_weights = model_1.get_layer(\"embedding_1\").get_weights()[0]\n",
        "print(embed_weights.shape) # same size as vocab size and embedding_dim (each word is a embedding_dim size vector)"
      ],
      "metadata": {
        "colab": {
          "base_uri": "https://localhost:8080/"
        },
        "id": "87sm9mNwGTiU",
        "outputId": "d44a2f32-6426-4f3b-cc4f-3f0951919d04"
      },
      "execution_count": 48,
      "outputs": [
        {
          "output_type": "stream",
          "name": "stdout",
          "text": [
            "(10000, 128)\n"
          ]
        }
      ]
    },
    {
      "cell_type": "code",
      "source": [
        "# Code below is adapted from: https://www.tensorflow.org/tutorials/text/word_embeddings#retrieve_the_trained_word_embeddings_and_save_them_to_disk\n",
        "import io\n",
        "\n",
        "# Create output writers\n",
        "out_v = io.open(\"embedding_vectors.tsv\", \"w\", encoding=\"utf-8\")\n",
        "out_m = io.open(\"embedding_metadata.tsv\", \"w\", encoding=\"utf-8\")\n",
        "\n",
        "# Write embedding vectors and words to file\n",
        "for num, word in enumerate(words_in_vocab):\n",
        "  if num == 0: \n",
        "     continue # skip padding token\n",
        "  vec = embed_weights[num]\n",
        "  out_m.write(word + \"\\n\") # write words to file\n",
        "  out_v.write(\"\\t\".join([str(x) for x in vec]) + \"\\n\") # write corresponding word vector to file\n",
        "out_v.close()\n",
        "out_m.close()\n",
        "\n",
        "# Download files locally to upload to Embedding Projector\n",
        "try:\n",
        "  from google.colab import files\n",
        "except ImportError:\n",
        "  pass\n",
        "else:\n",
        "  files.download(\"embedding_vectors.tsv\")\n",
        "  files.download(\"embedding_metadata.tsv\")"
      ],
      "metadata": {
        "colab": {
          "base_uri": "https://localhost:8080/",
          "height": 17
        },
        "id": "DjY2THUfHDSp",
        "outputId": "72a6ec7c-f529-4b17-dc4b-3f0a4fa528c5"
      },
      "execution_count": 50,
      "outputs": [
        {
          "output_type": "display_data",
          "data": {
            "application/javascript": [
              "\n",
              "    async function download(id, filename, size) {\n",
              "      if (!google.colab.kernel.accessAllowed) {\n",
              "        return;\n",
              "      }\n",
              "      const div = document.createElement('div');\n",
              "      const label = document.createElement('label');\n",
              "      label.textContent = `Downloading \"${filename}\": `;\n",
              "      div.appendChild(label);\n",
              "      const progress = document.createElement('progress');\n",
              "      progress.max = size;\n",
              "      div.appendChild(progress);\n",
              "      document.body.appendChild(div);\n",
              "\n",
              "      const buffers = [];\n",
              "      let downloaded = 0;\n",
              "\n",
              "      const channel = await google.colab.kernel.comms.open(id);\n",
              "      // Send a message to notify the kernel that we're ready.\n",
              "      channel.send({})\n",
              "\n",
              "      for await (const message of channel.messages) {\n",
              "        // Send a message to notify the kernel that we're ready.\n",
              "        channel.send({})\n",
              "        if (message.buffers) {\n",
              "          for (const buffer of message.buffers) {\n",
              "            buffers.push(buffer);\n",
              "            downloaded += buffer.byteLength;\n",
              "            progress.value = downloaded;\n",
              "          }\n",
              "        }\n",
              "      }\n",
              "      const blob = new Blob(buffers, {type: 'application/binary'});\n",
              "      const a = document.createElement('a');\n",
              "      a.href = window.URL.createObjectURL(blob);\n",
              "      a.download = filename;\n",
              "      div.appendChild(a);\n",
              "      a.click();\n",
              "      div.remove();\n",
              "    }\n",
              "  "
            ],
            "text/plain": [
              "<IPython.core.display.Javascript object>"
            ]
          },
          "metadata": {}
        },
        {
          "output_type": "display_data",
          "data": {
            "application/javascript": [
              "download(\"download_5981d6ae-a2f5-41b4-a553-5f152d1e8bc4\", \"embedding_vectors.tsv\", 15379943)"
            ],
            "text/plain": [
              "<IPython.core.display.Javascript object>"
            ]
          },
          "metadata": {}
        },
        {
          "output_type": "display_data",
          "data": {
            "application/javascript": [
              "\n",
              "    async function download(id, filename, size) {\n",
              "      if (!google.colab.kernel.accessAllowed) {\n",
              "        return;\n",
              "      }\n",
              "      const div = document.createElement('div');\n",
              "      const label = document.createElement('label');\n",
              "      label.textContent = `Downloading \"${filename}\": `;\n",
              "      div.appendChild(label);\n",
              "      const progress = document.createElement('progress');\n",
              "      progress.max = size;\n",
              "      div.appendChild(progress);\n",
              "      document.body.appendChild(div);\n",
              "\n",
              "      const buffers = [];\n",
              "      let downloaded = 0;\n",
              "\n",
              "      const channel = await google.colab.kernel.comms.open(id);\n",
              "      // Send a message to notify the kernel that we're ready.\n",
              "      channel.send({})\n",
              "\n",
              "      for await (const message of channel.messages) {\n",
              "        // Send a message to notify the kernel that we're ready.\n",
              "        channel.send({})\n",
              "        if (message.buffers) {\n",
              "          for (const buffer of message.buffers) {\n",
              "            buffers.push(buffer);\n",
              "            downloaded += buffer.byteLength;\n",
              "            progress.value = downloaded;\n",
              "          }\n",
              "        }\n",
              "      }\n",
              "      const blob = new Blob(buffers, {type: 'application/binary'});\n",
              "      const a = document.createElement('a');\n",
              "      a.href = window.URL.createObjectURL(blob);\n",
              "      a.download = filename;\n",
              "      div.appendChild(a);\n",
              "      a.click();\n",
              "      div.remove();\n",
              "    }\n",
              "  "
            ],
            "text/plain": [
              "<IPython.core.display.Javascript object>"
            ]
          },
          "metadata": {}
        },
        {
          "output_type": "display_data",
          "data": {
            "application/javascript": [
              "download(\"download_857c745f-625b-4c6b-9e41-246cc4400ad8\", \"embedding_metadata.tsv\", 80388)"
            ],
            "text/plain": [
              "<IPython.core.display.Javascript object>"
            ]
          },
          "metadata": {}
        }
      ]
    },
    {
      "cell_type": "markdown",
      "source": [
        "Once we got our Vector and Metadata files we can upload the data on  [Embedding Projector tool](http://projector.tensorflow.org/_)  to visualise "
      ],
      "metadata": {
        "id": "bpv4Q1gHJfC2"
      }
    },
    {
      "cell_type": "markdown",
      "source": [
        "## Model 2 : LSTM Model "
      ],
      "metadata": {
        "id": "kE68v64LmwS0"
      }
    },
    {
      "cell_type": "code",
      "source": [
        "# Setting Random Seed for Reproducibility and creating new embedding for LSTM network \n",
        "tf.random.set_seed(42)\n",
        "from tensorflow.keras import layers \n",
        "lstm_model_embedding = layers.Embedding(\n",
        "    input_dim=max_vocab_length,\n",
        "    output_dim=128,\n",
        "    embeddings_initializer=\"uniform\",\n",
        "    input_length=max_length,\n",
        "    name=\"embedding_lstm\"\n",
        ")\n",
        "\n",
        "#LSTM model \n",
        "input = layers.Input(shape=(1,),dtype = 'string')\n",
        "x = text_vectorizer(inputs)\n",
        "x = lstm_model_embedding(x)\n",
        "print(x.shape)\n",
        "# x = layers.LSTM(64, return_sequences=True)(x) # return vector for each word in the Tweet (you can stack RNN cells as long as return_sequences=True)\n",
        "x = layers.LSTM(64)(x) # return vector for whole sequence\n",
        "print(x.shape)\n",
        "# x = layers.Dense(64, activation=\"relu\")(x) # optional dense layer on top of output of LSTM cell\n",
        "outputs = layers.Dense(1, activation=\"sigmoid\")(x)\n",
        "model_2 = tf.keras.Model(inputs, outputs, name=\"model_2_LSTM\")\n",
        "\n",
        "\n",
        "\n",
        "\n",
        "\n"
      ],
      "metadata": {
        "colab": {
          "base_uri": "https://localhost:8080/"
        },
        "id": "EFGD4SywHp1h",
        "outputId": "1e6181d5-37b2-49bf-8d0d-d801f05e81d6"
      },
      "execution_count": 53,
      "outputs": [
        {
          "output_type": "stream",
          "name": "stdout",
          "text": [
            "(None, 15, 128)\n",
            "(None, 64)\n"
          ]
        }
      ]
    },
    {
      "cell_type": "code",
      "source": [
        "# Compile model\n",
        "model_2.compile(loss=\"binary_crossentropy\",\n",
        "                optimizer=tf.keras.optimizers.Adam(),\n",
        "                metrics=[\"accuracy\"])\n",
        "model_2.summary()"
      ],
      "metadata": {
        "colab": {
          "base_uri": "https://localhost:8080/"
        },
        "id": "yaD8SOTxoU1o",
        "outputId": "970e8508-f1d9-49f3-edc5-fb29f4c35724"
      },
      "execution_count": 54,
      "outputs": [
        {
          "output_type": "stream",
          "name": "stdout",
          "text": [
            "Model: \"model_2_LSTM\"\n",
            "_________________________________________________________________\n",
            " Layer (type)                Output Shape              Param #   \n",
            "=================================================================\n",
            " input_3 (InputLayer)        [(None, 1)]               0         \n",
            "                                                                 \n",
            " text_vectorization_1 (TextV  (None, 15)               0         \n",
            " ectorization)                                                   \n",
            "                                                                 \n",
            " embedding_lstm (Embedding)  (None, 15, 128)           1280000   \n",
            "                                                                 \n",
            " lstm_1 (LSTM)               (None, 64)                49408     \n",
            "                                                                 \n",
            " dense_3 (Dense)             (None, 1)                 65        \n",
            "                                                                 \n",
            "=================================================================\n",
            "Total params: 1,329,473\n",
            "Trainable params: 1,329,473\n",
            "Non-trainable params: 0\n",
            "_________________________________________________________________\n"
          ]
        }
      ]
    },
    {
      "cell_type": "code",
      "source": [
        "# Fit model\n",
        "model_2_history = model_2.fit(train_sentences,\n",
        "                              train_labels,\n",
        "                              epochs=50,\n",
        "                              validation_data=(val_sentences, val_labels),\n",
        "                              callbacks=[create_tensorboard_callback(SAVE_DIR, \n",
        "                                                                     \"LSTM\")])"
      ],
      "metadata": {
        "colab": {
          "base_uri": "https://localhost:8080/"
        },
        "id": "PEdCDiI4onwT",
        "outputId": "d46b9ace-c094-43a9-d96e-8f83f4a16ea6"
      },
      "execution_count": 61,
      "outputs": [
        {
          "output_type": "stream",
          "name": "stdout",
          "text": [
            "Saving TensorBoard log files to: model_logs/LSTM/20220102-163639\n",
            "Epoch 1/50\n",
            "215/215 [==============================] - 9s 43ms/step - loss: 0.0373 - accuracy: 0.9820 - val_loss: 1.6315 - val_accuracy: 0.7507\n",
            "Epoch 2/50\n",
            "215/215 [==============================] - 8s 37ms/step - loss: 0.0372 - accuracy: 0.9828 - val_loss: 1.6942 - val_accuracy: 0.7428\n",
            "Epoch 3/50\n",
            "215/215 [==============================] - 5s 24ms/step - loss: 0.0320 - accuracy: 0.9837 - val_loss: 1.8462 - val_accuracy: 0.7428\n",
            "Epoch 4/50\n",
            "215/215 [==============================] - 5s 24ms/step - loss: 0.0357 - accuracy: 0.9828 - val_loss: 1.2221 - val_accuracy: 0.7388\n",
            "Epoch 5/50\n",
            "215/215 [==============================] - 5s 25ms/step - loss: 0.0383 - accuracy: 0.9815 - val_loss: 1.3730 - val_accuracy: 0.7559\n",
            "Epoch 6/50\n",
            "215/215 [==============================] - 5s 24ms/step - loss: 0.0376 - accuracy: 0.9831 - val_loss: 1.4168 - val_accuracy: 0.7441\n",
            "Epoch 7/50\n",
            "215/215 [==============================] - 5s 25ms/step - loss: 0.0355 - accuracy: 0.9813 - val_loss: 1.6686 - val_accuracy: 0.7480\n",
            "Epoch 8/50\n",
            "215/215 [==============================] - 5s 25ms/step - loss: 0.0359 - accuracy: 0.9825 - val_loss: 1.3963 - val_accuracy: 0.7467\n",
            "Epoch 9/50\n",
            "215/215 [==============================] - 5s 25ms/step - loss: 0.0301 - accuracy: 0.9837 - val_loss: 1.5319 - val_accuracy: 0.7598\n",
            "Epoch 10/50\n",
            "215/215 [==============================] - 5s 25ms/step - loss: 0.0282 - accuracy: 0.9838 - val_loss: 1.8620 - val_accuracy: 0.7625\n",
            "Epoch 11/50\n",
            "215/215 [==============================] - 5s 25ms/step - loss: 0.0279 - accuracy: 0.9837 - val_loss: 1.9091 - val_accuracy: 0.7585\n",
            "Epoch 12/50\n",
            "215/215 [==============================] - 5s 25ms/step - loss: 0.0279 - accuracy: 0.9867 - val_loss: 1.7281 - val_accuracy: 0.7625\n",
            "Epoch 13/50\n",
            "215/215 [==============================] - 6s 29ms/step - loss: 0.0346 - accuracy: 0.9829 - val_loss: 1.5836 - val_accuracy: 0.7480\n",
            "Epoch 14/50\n",
            "215/215 [==============================] - 5s 25ms/step - loss: 0.0319 - accuracy: 0.9847 - val_loss: 1.6026 - val_accuracy: 0.7533\n",
            "Epoch 15/50\n",
            "215/215 [==============================] - 5s 24ms/step - loss: 0.0279 - accuracy: 0.9851 - val_loss: 1.9256 - val_accuracy: 0.7441\n",
            "Epoch 16/50\n",
            "215/215 [==============================] - 5s 25ms/step - loss: 0.0276 - accuracy: 0.9857 - val_loss: 1.9668 - val_accuracy: 0.7480\n",
            "Epoch 17/50\n",
            "215/215 [==============================] - 5s 25ms/step - loss: 0.0268 - accuracy: 0.9861 - val_loss: 1.9905 - val_accuracy: 0.7520\n",
            "Epoch 18/50\n",
            "215/215 [==============================] - 5s 24ms/step - loss: 0.0286 - accuracy: 0.9847 - val_loss: 2.0923 - val_accuracy: 0.7520\n",
            "Epoch 19/50\n",
            "215/215 [==============================] - 5s 24ms/step - loss: 0.0271 - accuracy: 0.9853 - val_loss: 2.0580 - val_accuracy: 0.7520\n",
            "Epoch 20/50\n",
            "215/215 [==============================] - 5s 24ms/step - loss: 0.0266 - accuracy: 0.9858 - val_loss: 2.1150 - val_accuracy: 0.7507\n",
            "Epoch 21/50\n",
            "215/215 [==============================] - 5s 24ms/step - loss: 0.0273 - accuracy: 0.9863 - val_loss: 1.8251 - val_accuracy: 0.7612\n",
            "Epoch 22/50\n",
            "215/215 [==============================] - 6s 29ms/step - loss: 0.0391 - accuracy: 0.9832 - val_loss: 1.4855 - val_accuracy: 0.7428\n",
            "Epoch 23/50\n",
            "215/215 [==============================] - 5s 25ms/step - loss: 0.0331 - accuracy: 0.9853 - val_loss: 1.4085 - val_accuracy: 0.7428\n",
            "Epoch 24/50\n",
            "215/215 [==============================] - 5s 25ms/step - loss: 0.0346 - accuracy: 0.9832 - val_loss: 1.4728 - val_accuracy: 0.7402\n",
            "Epoch 25/50\n",
            "215/215 [==============================] - 5s 25ms/step - loss: 0.0295 - accuracy: 0.9853 - val_loss: 1.5428 - val_accuracy: 0.7612\n",
            "Epoch 26/50\n",
            "215/215 [==============================] - 5s 25ms/step - loss: 0.0280 - accuracy: 0.9864 - val_loss: 1.6446 - val_accuracy: 0.7533\n",
            "Epoch 27/50\n",
            "215/215 [==============================] - 8s 35ms/step - loss: 0.0265 - accuracy: 0.9857 - val_loss: 1.7038 - val_accuracy: 0.7520\n",
            "Epoch 28/50\n",
            "215/215 [==============================] - 7s 32ms/step - loss: 0.0251 - accuracy: 0.9861 - val_loss: 1.8959 - val_accuracy: 0.7520\n",
            "Epoch 29/50\n",
            "215/215 [==============================] - 5s 25ms/step - loss: 0.0253 - accuracy: 0.9869 - val_loss: 1.9270 - val_accuracy: 0.7428\n",
            "Epoch 30/50\n",
            "215/215 [==============================] - 5s 25ms/step - loss: 0.0261 - accuracy: 0.9864 - val_loss: 1.8896 - val_accuracy: 0.7441\n",
            "Epoch 31/50\n",
            "215/215 [==============================] - 6s 29ms/step - loss: 0.0250 - accuracy: 0.9863 - val_loss: 2.0316 - val_accuracy: 0.7507\n",
            "Epoch 32/50\n",
            "215/215 [==============================] - 5s 25ms/step - loss: 0.0268 - accuracy: 0.9870 - val_loss: 1.7312 - val_accuracy: 0.7218\n",
            "Epoch 33/50\n",
            "215/215 [==============================] - 5s 25ms/step - loss: 0.0263 - accuracy: 0.9864 - val_loss: 2.0950 - val_accuracy: 0.7467\n",
            "Epoch 34/50\n",
            "215/215 [==============================] - 5s 25ms/step - loss: 0.0255 - accuracy: 0.9867 - val_loss: 2.0919 - val_accuracy: 0.7585\n",
            "Epoch 35/50\n",
            "215/215 [==============================] - 5s 25ms/step - loss: 0.0250 - accuracy: 0.9861 - val_loss: 2.1316 - val_accuracy: 0.7520\n",
            "Epoch 36/50\n",
            "215/215 [==============================] - 5s 24ms/step - loss: 0.0251 - accuracy: 0.9863 - val_loss: 2.1521 - val_accuracy: 0.7480\n",
            "Epoch 37/50\n",
            "215/215 [==============================] - 5s 25ms/step - loss: 0.0241 - accuracy: 0.9873 - val_loss: 2.3403 - val_accuracy: 0.7480\n",
            "Epoch 38/50\n",
            "215/215 [==============================] - 5s 25ms/step - loss: 0.0263 - accuracy: 0.9858 - val_loss: 2.4492 - val_accuracy: 0.7375\n",
            "Epoch 39/50\n",
            "215/215 [==============================] - 5s 24ms/step - loss: 0.0354 - accuracy: 0.9842 - val_loss: 1.3133 - val_accuracy: 0.7441\n",
            "Epoch 40/50\n",
            "215/215 [==============================] - 5s 25ms/step - loss: 0.0301 - accuracy: 0.9850 - val_loss: 1.6540 - val_accuracy: 0.7507\n",
            "Epoch 41/50\n",
            "215/215 [==============================] - 5s 25ms/step - loss: 0.0283 - accuracy: 0.9863 - val_loss: 1.6601 - val_accuracy: 0.7520\n",
            "Epoch 42/50\n",
            "215/215 [==============================] - 5s 25ms/step - loss: 0.0281 - accuracy: 0.9860 - val_loss: 1.6368 - val_accuracy: 0.7231\n",
            "Epoch 43/50\n",
            "215/215 [==============================] - 5s 25ms/step - loss: 0.0250 - accuracy: 0.9864 - val_loss: 1.6312 - val_accuracy: 0.7415\n",
            "Epoch 44/50\n",
            "215/215 [==============================] - 5s 25ms/step - loss: 0.0250 - accuracy: 0.9867 - val_loss: 1.6765 - val_accuracy: 0.7507\n",
            "Epoch 45/50\n",
            "215/215 [==============================] - 5s 25ms/step - loss: 0.0239 - accuracy: 0.9872 - val_loss: 1.8257 - val_accuracy: 0.7415\n",
            "Epoch 46/50\n",
            "215/215 [==============================] - 5s 25ms/step - loss: 0.0240 - accuracy: 0.9872 - val_loss: 1.8752 - val_accuracy: 0.7559\n",
            "Epoch 47/50\n",
            "215/215 [==============================] - 5s 24ms/step - loss: 0.0241 - accuracy: 0.9872 - val_loss: 1.9846 - val_accuracy: 0.7493\n",
            "Epoch 48/50\n",
            "215/215 [==============================] - 5s 24ms/step - loss: 0.0237 - accuracy: 0.9873 - val_loss: 2.0400 - val_accuracy: 0.7467\n",
            "Epoch 49/50\n",
            "215/215 [==============================] - 5s 25ms/step - loss: 0.0238 - accuracy: 0.9872 - val_loss: 2.0359 - val_accuracy: 0.7441\n",
            "Epoch 50/50\n",
            "215/215 [==============================] - 5s 24ms/step - loss: 0.0239 - accuracy: 0.9872 - val_loss: 2.0562 - val_accuracy: 0.7415\n"
          ]
        }
      ]
    },
    {
      "cell_type": "code",
      "source": [
        "# Make predictions on the validation dataset\n",
        "model_2_pred_probs = model_2.predict(val_sentences)\n",
        "model_2_pred_probs.shape, model_2_pred_probs[:10] # view the first 10"
      ],
      "metadata": {
        "colab": {
          "base_uri": "https://localhost:8080/"
        },
        "id": "IqPS_t85oszj",
        "outputId": "86a6f406-e5ba-4e8a-a887-3cb9d0cfd31d"
      },
      "execution_count": 62,
      "outputs": [
        {
          "output_type": "execute_result",
          "data": {
            "text/plain": [
              "((762, 1), array([[1.0619968e-02],\n",
              "        [9.8938227e-01],\n",
              "        [9.9999589e-01],\n",
              "        [4.5016408e-04],\n",
              "        [2.4956773e-06],\n",
              "        [9.9999607e-01],\n",
              "        [2.4256706e-03],\n",
              "        [1.0000000e+00],\n",
              "        [9.9999571e-01],\n",
              "        [7.2410703e-04]], dtype=float32))"
            ]
          },
          "metadata": {},
          "execution_count": 62
        }
      ]
    },
    {
      "cell_type": "code",
      "source": [
        "# Round out predictions and reduce to 1-dimensional array\n",
        "model_2_preds = tf.squeeze(tf.round(model_2_pred_probs))\n",
        "model_2_preds[:10]"
      ],
      "metadata": {
        "colab": {
          "base_uri": "https://localhost:8080/"
        },
        "id": "rq90mGTjpCXk",
        "outputId": "61a2aea4-a1cf-47b4-a077-5f01c2be8739"
      },
      "execution_count": 63,
      "outputs": [
        {
          "output_type": "execute_result",
          "data": {
            "text/plain": [
              "<tf.Tensor: shape=(10,), dtype=float32, numpy=array([0., 1., 1., 0., 0., 1., 0., 1., 1., 0.], dtype=float32)>"
            ]
          },
          "metadata": {},
          "execution_count": 63
        }
      ]
    },
    {
      "cell_type": "code",
      "source": [
        "# Calculate LSTM model results\n",
        "model_2_results = calculate_results(y_true=val_labels,\n",
        "                                    y_pred=model_2_preds)\n",
        "model_2_results"
      ],
      "metadata": {
        "colab": {
          "base_uri": "https://localhost:8080/"
        },
        "id": "Lt0g4hM8pGsz",
        "outputId": "09da9ba7-13e3-480c-94f2-e277d9ecbac0"
      },
      "execution_count": 64,
      "outputs": [
        {
          "output_type": "execute_result",
          "data": {
            "text/plain": [
              "{'accuracy': 74.1469816272966,\n",
              " 'f1': 0.7398677207095616,\n",
              " 'precision': 0.7414498796209074,\n",
              " 'recall': 0.7414698162729659}"
            ]
          },
          "metadata": {},
          "execution_count": 64
        }
      ]
    },
    {
      "cell_type": "code",
      "source": [
        "# Compare model 2 to baseline\n",
        "compare_baseline_to_new_results(baseline_results, model_2_results)"
      ],
      "metadata": {
        "colab": {
          "base_uri": "https://localhost:8080/"
        },
        "id": "YAGbhSCOpJWa",
        "outputId": "da353247-357a-4fc8-82a6-6cd709b3bb92"
      },
      "execution_count": 65,
      "outputs": [
        {
          "output_type": "stream",
          "name": "stdout",
          "text": [
            "Baseline accuracy: 79.27, New accuracy: 74.15, Difference: -5.12\n",
            "Baseline precision: 0.81, New precision: 0.74, Difference: -0.07\n",
            "Baseline recall: 0.79, New recall: 0.74, Difference: -0.05\n",
            "Baseline f1: 0.79, New f1: 0.74, Difference: -0.05\n"
          ]
        }
      ]
    },
    {
      "cell_type": "code",
      "source": [
        ""
      ],
      "metadata": {
        "id": "vTgwf1lWpL46"
      },
      "execution_count": null,
      "outputs": []
    }
  ],
  "metadata": {
    "colab": {
      "name": "NLP in Tensorflow.ipynb",
      "provenance": [],
      "collapsed_sections": [],
      "authorship_tag": "ABX9TyOeZaMCHMDBYT9c2eAdNoSB"
    },
    "kernelspec": {
      "display_name": "Python 3",
      "name": "python3"
    },
    "language_info": {
      "name": "python"
    }
  },
  "nbformat": 4,
  "nbformat_minor": 0
}