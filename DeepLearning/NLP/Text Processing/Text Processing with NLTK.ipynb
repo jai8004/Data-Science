{
  "nbformat": 4,
  "nbformat_minor": 0,
  "metadata": {
    "colab": {
      "name": "Text Processing.ipynb",
      "provenance": [],
      "authorship_tag": "ABX9TyN/ZZwuAWqg/3x0FscOVE+E",
      "include_colab_link": true
    },
    "kernelspec": {
      "name": "python3",
      "display_name": "Python 3"
    },
    "language_info": {
      "name": "python"
    }
  },
  "cells": [
    {
      "cell_type": "markdown",
      "metadata": {
        "id": "view-in-github",
        "colab_type": "text"
      },
      "source": [
        "<a href=\"https://colab.research.google.com/github/jai8004/Data-Science/blob/main/DeepLearning/NLP/Text%20Processing/Text%20Processing%20with%20NLTK.ipynb\" target=\"_parent\"><img src=\"https://colab.research.google.com/assets/colab-badge.svg\" alt=\"Open In Colab\"/></a>"
      ]
    },
    {
      "cell_type": "markdown",
      "source": [
        "## Stopwords \n",
        "\n",
        "\n",
        "Stopwords are the most common words in any natural language. For the purpose of analyzing text data and building NLP models, these stopwords might not add much value to the meaning of the document. Generally, the most common words used in a text are “the”, “is”, “in”, “for”, “where”, “when”, “to”, “at” etc."
      ],
      "metadata": {
        "id": "r4bJfZQmj53w"
      }
    },
    {
      "cell_type": "code",
      "source": [
        ""
      ],
      "metadata": {
        "id": "e8wOPDtjlWsN"
      },
      "execution_count": 1,
      "outputs": []
    },
    {
      "cell_type": "code",
      "source": [
        "import nltk \n",
        "from nltk.corpus import stopwords \n",
        "nltk.download('stopwords')\n",
        "\n",
        "stop_words = stopwords.words('english')\n",
        "stop_words[:10]"
      ],
      "metadata": {
        "colab": {
          "base_uri": "https://localhost:8080/"
        },
        "id": "csjWejD1kOEn",
        "outputId": "c5e7f112-58b6-4273-ae66-15c2c3cb1866"
      },
      "execution_count": 2,
      "outputs": [
        {
          "output_type": "stream",
          "name": "stdout",
          "text": [
            "[nltk_data] Downloading package stopwords to /root/nltk_data...\n",
            "[nltk_data]   Unzipping corpora/stopwords.zip.\n"
          ]
        },
        {
          "output_type": "execute_result",
          "data": {
            "text/plain": [
              "['i', 'me', 'my', 'myself', 'we', 'our', 'ours', 'ourselves', 'you', \"you're\"]"
            ]
          },
          "metadata": {},
          "execution_count": 2
        }
      ]
    },
    {
      "cell_type": "code",
      "execution_count": 8,
      "metadata": {
        "id": "emwMKETYjpeI"
      },
      "outputs": [],
      "source": [
        "#Taking a random article paragraph as our dataset \n",
        "article = \"\"\"Natural language processing (NLP) is a subfield of linguistics, computer science, and artificial intelligence concerned with \n",
        "              the interactions between computers and human language, in particular how to \n",
        "              program computers to process and analyze large amounts of natural language data.\n",
        "              The goal is a computer capable of understanding the contents of documents, including the contextual\n",
        "              nuances of the language within them. The technology can then accurately extract information and insights\n",
        "              contained in the documents as well as categorize and organize the documents themselves.\"\"\""
      ]
    },
    {
      "cell_type": "code",
      "source": [
        "#making a unique set of stop words \n",
        "stop_words = set(stop_words)\n",
        "article_corpus = article.lower().split()\n",
        "print(f'Len of Aricle {len(article)}')\n",
        "print(article[:20])\n",
        "print(f'\\nLen of Aricle Corpus {len(article_corpus)}')\n",
        "print(article_corpus[:20])\n"
      ],
      "metadata": {
        "colab": {
          "base_uri": "https://localhost:8080/"
        },
        "id": "sPMYOclslOIG",
        "outputId": "4de506a9-1575-4d27-d698-e64b393c080c"
      },
      "execution_count": 11,
      "outputs": [
        {
          "output_type": "stream",
          "name": "stdout",
          "text": [
            "Len of Aricle 646\n",
            "Natural language pro\n",
            "\n",
            "Len of Aricle Corpus 82\n",
            "['natural', 'language', 'processing', '(nlp)', 'is', 'a', 'subfield', 'of', 'linguistics,', 'computer', 'science,', 'and', 'artificial', 'intelligence', 'concerned', 'with', 'the', 'interactions', 'between', 'computers']\n"
          ]
        }
      ]
    },
    {
      "cell_type": "code",
      "source": [
        "#removing stopwords\n",
        "article_corpus_no_stopwords = [word for word in article_corpus if word not in stop_words]"
      ],
      "metadata": {
        "id": "BeIkzv2WmGfi"
      },
      "execution_count": 12,
      "outputs": []
    },
    {
      "cell_type": "code",
      "source": [
        "print(\"With stopwords:\", ' '.join(article_corpus))\n"
      ],
      "metadata": {
        "colab": {
          "base_uri": "https://localhost:8080/"
        },
        "id": "zGNnHIPIizO3",
        "outputId": "6e7854a4-1968-4475-af2e-71fba913691c"
      },
      "execution_count": 13,
      "outputs": [
        {
          "output_type": "stream",
          "name": "stdout",
          "text": [
            "With stopwords: natural language processing (nlp) is a subfield of linguistics, computer science, and artificial intelligence concerned with the interactions between computers and human language, in particular how to program computers to process and analyze large amounts of natural language data. the goal is a computer capable of understanding the contents of documents, including the contextual nuances of the language within them. the technology can then accurately extract information and insights contained in the documents as well as categorize and organize the documents themselves.\n"
          ]
        }
      ]
    },
    {
      "cell_type": "code",
      "source": [
        "print(\"Without:\", ' '.join(article_corpus_no_stopwords))"
      ],
      "metadata": {
        "colab": {
          "base_uri": "https://localhost:8080/"
        },
        "id": "__kO4edOi6B5",
        "outputId": "99892704-e95a-4311-f3ae-2223bedb37ed"
      },
      "execution_count": 14,
      "outputs": [
        {
          "output_type": "stream",
          "name": "stdout",
          "text": [
            "Without: natural language processing (nlp) subfield linguistics, computer science, artificial intelligence concerned interactions computers human language, particular program computers process analyze large amounts natural language data. goal computer capable understanding contents documents, including contextual nuances language within them. technology accurately extract information insights contained documents well categorize organize documents themselves.\n"
          ]
        }
      ]
    },
    {
      "cell_type": "code",
      "source": [
        ""
      ],
      "metadata": {
        "id": "g1Q6gyFgi7HT"
      },
      "execution_count": null,
      "outputs": []
    }
  ]
}