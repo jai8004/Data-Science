{
  "nbformat": 4,
  "nbformat_minor": 0,
  "metadata": {
    "colab": {
      "name": "Sentiment Analysis with Flair.ipynb",
      "provenance": [],
      "authorship_tag": "ABX9TyMTdpzsyihiqvXtWtg/wgID",
      "include_colab_link": true
    },
    "kernelspec": {
      "name": "python3",
      "display_name": "Python 3"
    },
    "language_info": {
      "name": "python"
    }
  },
  "cells": [
    {
      "cell_type": "markdown",
      "metadata": {
        "id": "view-in-github",
        "colab_type": "text"
      },
      "source": [
        "<a href=\"https://colab.research.google.com/github/jai8004/Data-Science/blob/main/DeepLearning/NLP/Sentiment%20Analysis/Sentiment_Analysis_with_Flair.ipynb\" target=\"_parent\"><img src=\"https://colab.research.google.com/assets/colab-badge.svg\" alt=\"Open In Colab\"/></a>"
      ]
    },
    {
      "cell_type": "code",
      "execution_count": null,
      "metadata": {
        "id": "vmHnkBCm6jr0"
      },
      "outputs": [],
      "source": [
        ""
      ]
    }
  ]
}