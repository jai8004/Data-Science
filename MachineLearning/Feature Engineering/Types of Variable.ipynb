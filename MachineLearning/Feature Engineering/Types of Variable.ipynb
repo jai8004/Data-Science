{
 "cells": [
  {
   "cell_type": "markdown",
   "metadata": {},
   "source": [
    "### Variable\n",
    "A variable is any characteristic, number, or quantity that can be measured or counted.\n",
    "\n",
    "1. Age(21,23..)\n",
    "2. Gender (male,feamale)\n",
    "3. Income(2000,3000 ..)\n",
    "4. Colour(Green,Yello..)\n",
    "\n",
    "#### Types of variable\n",
    "\n",
    "1. **Numverical Variable** \n",
    "\n",
    "    a) Discrete variables : Values in this variable are whole nos.\n",
    "        EX : i) Count of Students in class\n",
    "             ii) Count of Mobile Phone in Office\n",
    "    b) Continuous variables : Values in this variable are in a range.\n",
    "        EX : i) House Prices Rs.200000 , Rs 300000 \n",
    "             ii) Time Spent on work 3.5 hr ,6 hr\n",
    "           \n",
    "             \n",
    "    \n",
    "        "
   ]
  },
  {
   "cell_type": "code",
   "execution_count": null,
   "metadata": {},
   "outputs": [],
   "source": []
  }
 ],
 "metadata": {
  "kernelspec": {
   "display_name": "Python 3",
   "language": "python",
   "name": "python3"
  },
  "language_info": {
   "codemirror_mode": {
    "name": "ipython",
    "version": 3
   },
   "file_extension": ".py",
   "mimetype": "text/x-python",
   "name": "python",
   "nbconvert_exporter": "python",
   "pygments_lexer": "ipython3",
   "version": "3.8.5"
  }
 },
 "nbformat": 4,
 "nbformat_minor": 4
}
